{
 "cells": [
  {
   "cell_type": "code",
   "execution_count": 1,
   "metadata": {},
   "outputs": [],
   "source": [
    "import pandas as pd\n",
    "import numpy as np\n",
    "import json\n",
    "import re \n",
    "import sys\n",
    "import itertools\n",
    "from sklearn.feature_extraction.text import TfidfVectorizer\n",
    "from sklearn.metrics.pairwise import cosine_similarity\n",
    "from sklearn.preprocessing import MinMaxScaler\n",
    "import matplotlib.pyplot as plt\n",
    "from joblib import dump, load\n",
    "\n"
   ]
  },
  {
   "cell_type": "code",
   "execution_count": null,
   "metadata": {},
   "outputs": [],
   "source": []
  },
  {
   "cell_type": "markdown",
   "metadata": {},
   "source": [
    "# For now filter the songs data to only the ones in playlists to save on memory"
   ]
  },
  {
   "cell_type": "code",
   "execution_count": null,
   "metadata": {},
   "outputs": [],
   "source": []
  },
  {
   "cell_type": "code",
   "execution_count": 2,
   "metadata": {},
   "outputs": [],
   "source": [
    "playlists_tracks = pd.read_csv(\"LastFM-Playlist-Tracks.csv\")\n",
    "tracks = pd.read_csv(\"LastFM-Tracks.csv\")\n",
    "songs_filtered = pd.read_csv(\"songs-filtered-machine-learning.csv\")"
   ]
  },
  {
   "cell_type": "code",
   "execution_count": 3,
   "metadata": {},
   "outputs": [
    {
     "data": {
      "text/html": [
       "<div>\n",
       "<style scoped>\n",
       "    .dataframe tbody tr th:only-of-type {\n",
       "        vertical-align: middle;\n",
       "    }\n",
       "\n",
       "    .dataframe tbody tr th {\n",
       "        vertical-align: top;\n",
       "    }\n",
       "\n",
       "    .dataframe thead th {\n",
       "        text-align: right;\n",
       "    }\n",
       "</style>\n",
       "<table border=\"1\" class=\"dataframe\">\n",
       "  <thead>\n",
       "    <tr style=\"text-align: right;\">\n",
       "      <th></th>\n",
       "      <th>Unnamed: 0</th>\n",
       "      <th>TrackID</th>\n",
       "      <th>TrackName</th>\n",
       "      <th>Popularity</th>\n",
       "      <th>Duration</th>\n",
       "      <th>Explicit</th>\n",
       "      <th>Artists</th>\n",
       "      <th>ArtistsID</th>\n",
       "      <th>ReleaseYear</th>\n",
       "      <th>Danceability</th>\n",
       "      <th>...</th>\n",
       "      <th>Liveness</th>\n",
       "      <th>Valence</th>\n",
       "      <th>Tempo</th>\n",
       "      <th>TimeSignature</th>\n",
       "      <th>artists_upd_v1</th>\n",
       "      <th>artists_upd_v2</th>\n",
       "      <th>artists_upd</th>\n",
       "      <th>artists_song</th>\n",
       "      <th>consolidates_genre_lists</th>\n",
       "      <th>popularity_red</th>\n",
       "    </tr>\n",
       "  </thead>\n",
       "  <tbody>\n",
       "    <tr>\n",
       "      <th>0</th>\n",
       "      <td>9815</td>\n",
       "      <td>7s8v7hQ80FZyL1N9FHZW5W</td>\n",
       "      <td>Пока боги спят</td>\n",
       "      <td>30</td>\n",
       "      <td>426000</td>\n",
       "      <td>0</td>\n",
       "      <td>['Сергей Маврин']</td>\n",
       "      <td>['77PePiWlGlG80CJEgPah3B']</td>\n",
       "      <td>2004</td>\n",
       "      <td>0.260</td>\n",
       "      <td>...</td>\n",
       "      <td>0.2400</td>\n",
       "      <td>0.457</td>\n",
       "      <td>119.535</td>\n",
       "      <td>3</td>\n",
       "      <td>['Сергей Маврин']</td>\n",
       "      <td>[]</td>\n",
       "      <td>['Сергей Маврин']</td>\n",
       "      <td>Сергей Маврин+Пока боги спят</td>\n",
       "      <td>['russian_heavy_metal', 'russian_metal']</td>\n",
       "      <td>6</td>\n",
       "    </tr>\n",
       "    <tr>\n",
       "      <th>1</th>\n",
       "      <td>11564</td>\n",
       "      <td>38Mxx28rpORDuDAGuZe1F4</td>\n",
       "      <td>Ben Seni Sevduğumi</td>\n",
       "      <td>33</td>\n",
       "      <td>172500</td>\n",
       "      <td>0</td>\n",
       "      <td>['Şevval Sam']</td>\n",
       "      <td>['5zkh6MICzIQIUoA9NfZpBx']</td>\n",
       "      <td>2008</td>\n",
       "      <td>0.487</td>\n",
       "      <td>...</td>\n",
       "      <td>0.2200</td>\n",
       "      <td>0.572</td>\n",
       "      <td>78.869</td>\n",
       "      <td>5</td>\n",
       "      <td>['Şevval Sam']</td>\n",
       "      <td>[]</td>\n",
       "      <td>['Şevval Sam']</td>\n",
       "      <td>Şevval Sam+Ben Seni Sevduğumi</td>\n",
       "      <td>['karadeniz_turkuleri', 'turkish_pop', 'turkis...</td>\n",
       "      <td>6</td>\n",
       "    </tr>\n",
       "    <tr>\n",
       "      <th>2</th>\n",
       "      <td>11704</td>\n",
       "      <td>6mGP1LAOLKTUcu1TpAF8vy</td>\n",
       "      <td>Lovelock</td>\n",
       "      <td>38</td>\n",
       "      <td>240425</td>\n",
       "      <td>0</td>\n",
       "      <td>['Łąki Łan']</td>\n",
       "      <td>['2fyLjdAfNDXGANys1KoAzo']</td>\n",
       "      <td>2012</td>\n",
       "      <td>0.705</td>\n",
       "      <td>...</td>\n",
       "      <td>0.2410</td>\n",
       "      <td>0.851</td>\n",
       "      <td>139.988</td>\n",
       "      <td>4</td>\n",
       "      <td>['Łąki Łan']</td>\n",
       "      <td>[]</td>\n",
       "      <td>['Łąki Łan']</td>\n",
       "      <td>Łąki Łan+Lovelock</td>\n",
       "      <td>['polish_alternative']</td>\n",
       "      <td>7</td>\n",
       "    </tr>\n",
       "    <tr>\n",
       "      <th>3</th>\n",
       "      <td>11706</td>\n",
       "      <td>4G1GhiYTkfgsmMv1xlL6jO</td>\n",
       "      <td>Zabij się, zabij</td>\n",
       "      <td>26</td>\n",
       "      <td>236773</td>\n",
       "      <td>0</td>\n",
       "      <td>['Łzy']</td>\n",
       "      <td>['49kDJkXVeVB2KjvJmAwq0f']</td>\n",
       "      <td>1998</td>\n",
       "      <td>0.568</td>\n",
       "      <td>...</td>\n",
       "      <td>0.1130</td>\n",
       "      <td>0.616</td>\n",
       "      <td>120.858</td>\n",
       "      <td>4</td>\n",
       "      <td>['Łzy']</td>\n",
       "      <td>[]</td>\n",
       "      <td>['Łzy']</td>\n",
       "      <td>Łzy+Zabij się, zabij</td>\n",
       "      <td>['polish_pop']</td>\n",
       "      <td>5</td>\n",
       "    </tr>\n",
       "    <tr>\n",
       "      <th>4</th>\n",
       "      <td>11711</td>\n",
       "      <td>10hWSYRQZ4B1IjPafMhiKr</td>\n",
       "      <td>Jestem jaka jestem</td>\n",
       "      <td>27</td>\n",
       "      <td>230574</td>\n",
       "      <td>0</td>\n",
       "      <td>['Łzy']</td>\n",
       "      <td>['49kDJkXVeVB2KjvJmAwq0f']</td>\n",
       "      <td>2002</td>\n",
       "      <td>0.523</td>\n",
       "      <td>...</td>\n",
       "      <td>0.3680</td>\n",
       "      <td>0.558</td>\n",
       "      <td>93.020</td>\n",
       "      <td>4</td>\n",
       "      <td>['Łzy']</td>\n",
       "      <td>[]</td>\n",
       "      <td>['Łzy']</td>\n",
       "      <td>Łzy+Jestem jaka jestem</td>\n",
       "      <td>['polish_pop']</td>\n",
       "      <td>5</td>\n",
       "    </tr>\n",
       "    <tr>\n",
       "      <th>...</th>\n",
       "      <td>...</td>\n",
       "      <td>...</td>\n",
       "      <td>...</td>\n",
       "      <td>...</td>\n",
       "      <td>...</td>\n",
       "      <td>...</td>\n",
       "      <td>...</td>\n",
       "      <td>...</td>\n",
       "      <td>...</td>\n",
       "      <td>...</td>\n",
       "      <td>...</td>\n",
       "      <td>...</td>\n",
       "      <td>...</td>\n",
       "      <td>...</td>\n",
       "      <td>...</td>\n",
       "      <td>...</td>\n",
       "      <td>...</td>\n",
       "      <td>...</td>\n",
       "      <td>...</td>\n",
       "      <td>...</td>\n",
       "      <td>...</td>\n",
       "    </tr>\n",
       "    <tr>\n",
       "      <th>10042</th>\n",
       "      <td>523358</td>\n",
       "      <td>0tNoPlTA4WasOiJNyRbRvh</td>\n",
       "      <td>Like a Surgeon</td>\n",
       "      <td>17</td>\n",
       "      <td>210040</td>\n",
       "      <td>0</td>\n",
       "      <td>['\"Weird Al\" Yankovic']</td>\n",
       "      <td>['1bDWGdIC2hardyt55nlQgG']</td>\n",
       "      <td>1988</td>\n",
       "      <td>0.837</td>\n",
       "      <td>...</td>\n",
       "      <td>0.0506</td>\n",
       "      <td>0.962</td>\n",
       "      <td>126.136</td>\n",
       "      <td>4</td>\n",
       "      <td>['\"Weird Al\" Yankovic']</td>\n",
       "      <td>['Weird Al']</td>\n",
       "      <td>['\"Weird Al\" Yankovic']</td>\n",
       "      <td>\"Weird Al\" Yankovic+Like a Surgeon</td>\n",
       "      <td>['comic', 'parody', 'comedy_rock']</td>\n",
       "      <td>3</td>\n",
       "    </tr>\n",
       "    <tr>\n",
       "      <th>10043</th>\n",
       "      <td>523363</td>\n",
       "      <td>022XE9RZVU3a9nULENXfnm</td>\n",
       "      <td>I Lost On Jeopardy</td>\n",
       "      <td>36</td>\n",
       "      <td>208933</td>\n",
       "      <td>0</td>\n",
       "      <td>['\"Weird Al\" Yankovic']</td>\n",
       "      <td>['1bDWGdIC2hardyt55nlQgG']</td>\n",
       "      <td>1984</td>\n",
       "      <td>0.887</td>\n",
       "      <td>...</td>\n",
       "      <td>0.0507</td>\n",
       "      <td>0.836</td>\n",
       "      <td>113.262</td>\n",
       "      <td>4</td>\n",
       "      <td>['\"Weird Al\" Yankovic']</td>\n",
       "      <td>['Weird Al']</td>\n",
       "      <td>['\"Weird Al\" Yankovic']</td>\n",
       "      <td>\"Weird Al\" Yankovic+I Lost On Jeopardy</td>\n",
       "      <td>['comic', 'parody', 'comedy_rock']</td>\n",
       "      <td>7</td>\n",
       "    </tr>\n",
       "    <tr>\n",
       "      <th>10044</th>\n",
       "      <td>523368</td>\n",
       "      <td>073V7jY2AD5JXEnej4JUd1</td>\n",
       "      <td>Eat It</td>\n",
       "      <td>21</td>\n",
       "      <td>200440</td>\n",
       "      <td>0</td>\n",
       "      <td>['\"Weird Al\" Yankovic']</td>\n",
       "      <td>['1bDWGdIC2hardyt55nlQgG']</td>\n",
       "      <td>1988</td>\n",
       "      <td>0.763</td>\n",
       "      <td>...</td>\n",
       "      <td>0.0701</td>\n",
       "      <td>0.912</td>\n",
       "      <td>147.434</td>\n",
       "      <td>4</td>\n",
       "      <td>['\"Weird Al\" Yankovic']</td>\n",
       "      <td>['Weird Al']</td>\n",
       "      <td>['\"Weird Al\" Yankovic']</td>\n",
       "      <td>\"Weird Al\" Yankovic+Eat It</td>\n",
       "      <td>['comic', 'parody', 'comedy_rock']</td>\n",
       "      <td>4</td>\n",
       "    </tr>\n",
       "    <tr>\n",
       "      <th>10045</th>\n",
       "      <td>523445</td>\n",
       "      <td>0VVMYrDOTj2MQSXID2WMTI</td>\n",
       "      <td>Tell Everybody I Know</td>\n",
       "      <td>41</td>\n",
       "      <td>189093</td>\n",
       "      <td>0</td>\n",
       "      <td>[\"Keb' Mo'\"]</td>\n",
       "      <td>['6iDaoPZVgxrTkndDCisX8F']</td>\n",
       "      <td>1994</td>\n",
       "      <td>0.657</td>\n",
       "      <td>...</td>\n",
       "      <td>0.0501</td>\n",
       "      <td>0.945</td>\n",
       "      <td>166.427</td>\n",
       "      <td>4</td>\n",
       "      <td>[' Mo']</td>\n",
       "      <td>[\"Keb' Mo'\"]</td>\n",
       "      <td>[' Mo']</td>\n",
       "      <td>Mo+Tell Everybody I Know</td>\n",
       "      <td>[]</td>\n",
       "      <td>8</td>\n",
       "    </tr>\n",
       "    <tr>\n",
       "      <th>10046</th>\n",
       "      <td>523449</td>\n",
       "      <td>3tvyQCSm1QcWURgGvygvke</td>\n",
       "      <td>Am I Wrong</td>\n",
       "      <td>53</td>\n",
       "      <td>138533</td>\n",
       "      <td>0</td>\n",
       "      <td>[\"Keb' Mo'\"]</td>\n",
       "      <td>['6iDaoPZVgxrTkndDCisX8F']</td>\n",
       "      <td>1994</td>\n",
       "      <td>0.882</td>\n",
       "      <td>...</td>\n",
       "      <td>0.0445</td>\n",
       "      <td>0.964</td>\n",
       "      <td>112.650</td>\n",
       "      <td>4</td>\n",
       "      <td>[' Mo']</td>\n",
       "      <td>[\"Keb' Mo'\"]</td>\n",
       "      <td>[' Mo']</td>\n",
       "      <td>Mo+Am I Wrong</td>\n",
       "      <td>[]</td>\n",
       "      <td>10</td>\n",
       "    </tr>\n",
       "  </tbody>\n",
       "</table>\n",
       "<p>10047 rows × 27 columns</p>\n",
       "</div>"
      ],
      "text/plain": [
       "       Unnamed: 0                 TrackID              TrackName  Popularity  \\\n",
       "0            9815  7s8v7hQ80FZyL1N9FHZW5W         Пока боги спят          30   \n",
       "1           11564  38Mxx28rpORDuDAGuZe1F4     Ben Seni Sevduğumi          33   \n",
       "2           11704  6mGP1LAOLKTUcu1TpAF8vy               Lovelock          38   \n",
       "3           11706  4G1GhiYTkfgsmMv1xlL6jO       Zabij się, zabij          26   \n",
       "4           11711  10hWSYRQZ4B1IjPafMhiKr     Jestem jaka jestem          27   \n",
       "...           ...                     ...                    ...         ...   \n",
       "10042      523358  0tNoPlTA4WasOiJNyRbRvh         Like a Surgeon          17   \n",
       "10043      523363  022XE9RZVU3a9nULENXfnm     I Lost On Jeopardy          36   \n",
       "10044      523368  073V7jY2AD5JXEnej4JUd1                 Eat It          21   \n",
       "10045      523445  0VVMYrDOTj2MQSXID2WMTI  Tell Everybody I Know          41   \n",
       "10046      523449  3tvyQCSm1QcWURgGvygvke             Am I Wrong          53   \n",
       "\n",
       "       Duration  Explicit                  Artists  \\\n",
       "0        426000         0        ['Сергей Маврин']   \n",
       "1        172500         0           ['Şevval Sam']   \n",
       "2        240425         0             ['Łąki Łan']   \n",
       "3        236773         0                  ['Łzy']   \n",
       "4        230574         0                  ['Łzy']   \n",
       "...         ...       ...                      ...   \n",
       "10042    210040         0  ['\"Weird Al\" Yankovic']   \n",
       "10043    208933         0  ['\"Weird Al\" Yankovic']   \n",
       "10044    200440         0  ['\"Weird Al\" Yankovic']   \n",
       "10045    189093         0             [\"Keb' Mo'\"]   \n",
       "10046    138533         0             [\"Keb' Mo'\"]   \n",
       "\n",
       "                        ArtistsID  ReleaseYear  Danceability  ...  Liveness  \\\n",
       "0      ['77PePiWlGlG80CJEgPah3B']         2004         0.260  ...    0.2400   \n",
       "1      ['5zkh6MICzIQIUoA9NfZpBx']         2008         0.487  ...    0.2200   \n",
       "2      ['2fyLjdAfNDXGANys1KoAzo']         2012         0.705  ...    0.2410   \n",
       "3      ['49kDJkXVeVB2KjvJmAwq0f']         1998         0.568  ...    0.1130   \n",
       "4      ['49kDJkXVeVB2KjvJmAwq0f']         2002         0.523  ...    0.3680   \n",
       "...                           ...          ...           ...  ...       ...   \n",
       "10042  ['1bDWGdIC2hardyt55nlQgG']         1988         0.837  ...    0.0506   \n",
       "10043  ['1bDWGdIC2hardyt55nlQgG']         1984         0.887  ...    0.0507   \n",
       "10044  ['1bDWGdIC2hardyt55nlQgG']         1988         0.763  ...    0.0701   \n",
       "10045  ['6iDaoPZVgxrTkndDCisX8F']         1994         0.657  ...    0.0501   \n",
       "10046  ['6iDaoPZVgxrTkndDCisX8F']         1994         0.882  ...    0.0445   \n",
       "\n",
       "       Valence    Tempo  TimeSignature           artists_upd_v1  \\\n",
       "0        0.457  119.535              3        ['Сергей Маврин']   \n",
       "1        0.572   78.869              5           ['Şevval Sam']   \n",
       "2        0.851  139.988              4             ['Łąki Łan']   \n",
       "3        0.616  120.858              4                  ['Łzy']   \n",
       "4        0.558   93.020              4                  ['Łzy']   \n",
       "...        ...      ...            ...                      ...   \n",
       "10042    0.962  126.136              4  ['\"Weird Al\" Yankovic']   \n",
       "10043    0.836  113.262              4  ['\"Weird Al\" Yankovic']   \n",
       "10044    0.912  147.434              4  ['\"Weird Al\" Yankovic']   \n",
       "10045    0.945  166.427              4                  [' Mo']   \n",
       "10046    0.964  112.650              4                  [' Mo']   \n",
       "\n",
       "       artists_upd_v2              artists_upd  \\\n",
       "0                  []        ['Сергей Маврин']   \n",
       "1                  []           ['Şevval Sam']   \n",
       "2                  []             ['Łąki Łan']   \n",
       "3                  []                  ['Łzy']   \n",
       "4                  []                  ['Łzy']   \n",
       "...               ...                      ...   \n",
       "10042    ['Weird Al']  ['\"Weird Al\" Yankovic']   \n",
       "10043    ['Weird Al']  ['\"Weird Al\" Yankovic']   \n",
       "10044    ['Weird Al']  ['\"Weird Al\" Yankovic']   \n",
       "10045    [\"Keb' Mo'\"]                  [' Mo']   \n",
       "10046    [\"Keb' Mo'\"]                  [' Mo']   \n",
       "\n",
       "                                 artists_song  \\\n",
       "0                Сергей Маврин+Пока боги спят   \n",
       "1               Şevval Sam+Ben Seni Sevduğumi   \n",
       "2                           Łąki Łan+Lovelock   \n",
       "3                        Łzy+Zabij się, zabij   \n",
       "4                      Łzy+Jestem jaka jestem   \n",
       "...                                       ...   \n",
       "10042      \"Weird Al\" Yankovic+Like a Surgeon   \n",
       "10043  \"Weird Al\" Yankovic+I Lost On Jeopardy   \n",
       "10044              \"Weird Al\" Yankovic+Eat It   \n",
       "10045                Mo+Tell Everybody I Know   \n",
       "10046                           Mo+Am I Wrong   \n",
       "\n",
       "                                consolidates_genre_lists  popularity_red  \n",
       "0               ['russian_heavy_metal', 'russian_metal']               6  \n",
       "1      ['karadeniz_turkuleri', 'turkish_pop', 'turkis...               6  \n",
       "2                                 ['polish_alternative']               7  \n",
       "3                                         ['polish_pop']               5  \n",
       "4                                         ['polish_pop']               5  \n",
       "...                                                  ...             ...  \n",
       "10042                 ['comic', 'parody', 'comedy_rock']               3  \n",
       "10043                 ['comic', 'parody', 'comedy_rock']               7  \n",
       "10044                 ['comic', 'parody', 'comedy_rock']               4  \n",
       "10045                                                 []               8  \n",
       "10046                                                 []              10  \n",
       "\n",
       "[10047 rows x 27 columns]"
      ]
     },
     "execution_count": 3,
     "metadata": {},
     "output_type": "execute_result"
    }
   ],
   "source": [
    "songs_filtered"
   ]
  },
  {
   "cell_type": "code",
   "execution_count": 4,
   "metadata": {},
   "outputs": [],
   "source": [
    "songs_filtered.drop(columns='Unnamed: 0', inplace=True)"
   ]
  },
  {
   "cell_type": "code",
   "execution_count": 5,
   "metadata": {},
   "outputs": [],
   "source": [
    "songs_filtered['consolidates_genre_lists'] = songs_filtered['consolidates_genre_lists'] .apply(lambda x: [re.sub(' ','_',i) for i in re.findall(r\"'([^']*)'\", x)])"
   ]
  },
  {
   "cell_type": "code",
   "execution_count": 6,
   "metadata": {},
   "outputs": [],
   "source": [
    "# tfidf can't handle nulls so fill any null values with an empty list\n",
    "songs_filtered['consolidates_genre_lists'] = songs_filtered['consolidates_genre_lists'].apply(lambda d: d if isinstance(d, list) else [])"
   ]
  },
  {
   "cell_type": "code",
   "execution_count": 7,
   "metadata": {},
   "outputs": [],
   "source": [
    "float_cols = songs_filtered.dtypes[(songs_filtered.dtypes == 'float64') | (songs_filtered.dtypes == 'int64')].index.values"
   ]
  },
  {
   "cell_type": "code",
   "execution_count": 8,
   "metadata": {},
   "outputs": [],
   "source": [
    "songs_filtered['artists_upd_v1'] = songs_filtered['Artists'].apply(lambda x: re.findall(r\"'([^']*)'\", x))\n",
    "songs_filtered['artists_upd_v2'] = songs_filtered['Artists'].apply(lambda x: re.findall('\\\"(.*?)\\\"',x))\n",
    "songs_filtered['artists_upd'] = np.where(songs_filtered['artists_upd_v1'].apply(lambda x: not x), songs_filtered['artists_upd_v2'], songs_filtered['artists_upd_v1'] )"
   ]
  },
  {
   "cell_type": "code",
   "execution_count": 9,
   "metadata": {},
   "outputs": [],
   "source": [
    "songs_filtered[\"len\"] = songs_filtered['artists_upd'].apply(lambda x: len(x))"
   ]
  },
  {
   "cell_type": "code",
   "execution_count": 10,
   "metadata": {},
   "outputs": [
    {
     "data": {
      "text/html": [
       "<div>\n",
       "<style scoped>\n",
       "    .dataframe tbody tr th:only-of-type {\n",
       "        vertical-align: middle;\n",
       "    }\n",
       "\n",
       "    .dataframe tbody tr th {\n",
       "        vertical-align: top;\n",
       "    }\n",
       "\n",
       "    .dataframe thead th {\n",
       "        text-align: right;\n",
       "    }\n",
       "</style>\n",
       "<table border=\"1\" class=\"dataframe\">\n",
       "  <thead>\n",
       "    <tr style=\"text-align: right;\">\n",
       "      <th></th>\n",
       "      <th>TrackID</th>\n",
       "      <th>TrackName</th>\n",
       "      <th>Popularity</th>\n",
       "      <th>Duration</th>\n",
       "      <th>Explicit</th>\n",
       "      <th>Artists</th>\n",
       "      <th>ArtistsID</th>\n",
       "      <th>ReleaseYear</th>\n",
       "      <th>Danceability</th>\n",
       "      <th>Energy</th>\n",
       "      <th>...</th>\n",
       "      <th>Valence</th>\n",
       "      <th>Tempo</th>\n",
       "      <th>TimeSignature</th>\n",
       "      <th>artists_upd_v1</th>\n",
       "      <th>artists_upd_v2</th>\n",
       "      <th>artists_upd</th>\n",
       "      <th>artists_song</th>\n",
       "      <th>consolidates_genre_lists</th>\n",
       "      <th>popularity_red</th>\n",
       "      <th>len</th>\n",
       "    </tr>\n",
       "  </thead>\n",
       "  <tbody>\n",
       "    <tr>\n",
       "      <th>7549</th>\n",
       "      <td>0kNwj2qeErviyMF4lrhgn9</td>\n",
       "      <td>The Hawk Talks</td>\n",
       "      <td>0</td>\n",
       "      <td>197267</td>\n",
       "      <td>0</td>\n",
       "      <td>['Duke Ellington', 'Clark Terry', 'Willie Cook...</td>\n",
       "      <td>['4F7Q5NV6h5TSwCainz8S5A', '62xdwGEOLoGQxKUqoJ...</td>\n",
       "      <td>1954</td>\n",
       "      <td>0.4500</td>\n",
       "      <td>0.6210</td>\n",
       "      <td>...</td>\n",
       "      <td>0.4270</td>\n",
       "      <td>110.788</td>\n",
       "      <td>4</td>\n",
       "      <td>[Duke Ellington, Clark Terry, Willie Cook, Cat...</td>\n",
       "      <td>[]</td>\n",
       "      <td>[Duke Ellington, Clark Terry, Willie Cook, Cat...</td>\n",
       "      <td>Duke Ellington+The Hawk Talks</td>\n",
       "      <td>[harlem_renaissance, jazz_piano, soul_jazz, ha...</td>\n",
       "      <td>0</td>\n",
       "      <td>15</td>\n",
       "    </tr>\n",
       "    <tr>\n",
       "      <th>244</th>\n",
       "      <td>1IEqRtID6cqzspmededRM1</td>\n",
       "      <td>Sinfonia Concertante in E-Flat Major: II. Adagio</td>\n",
       "      <td>11</td>\n",
       "      <td>461133</td>\n",
       "      <td>0</td>\n",
       "      <td>['Wolfgang Amadeus Mozart', 'Alfred Tolksdorf'...</td>\n",
       "      <td>['4NJhFmfw43RLBLjQvxDuRS', '1PVQx4ZEtmh2KO5nHR...</td>\n",
       "      <td>1967</td>\n",
       "      <td>0.0663</td>\n",
       "      <td>0.0245</td>\n",
       "      <td>...</td>\n",
       "      <td>0.0399</td>\n",
       "      <td>69.117</td>\n",
       "      <td>4</td>\n",
       "      <td>[Wolfgang Amadeus Mozart, Alfred Tolksdorf, Ka...</td>\n",
       "      <td>[]</td>\n",
       "      <td>[Wolfgang Amadeus Mozart, Alfred Tolksdorf, Ka...</td>\n",
       "      <td>Wolfgang Amadeus Mozart+Sinfonia Concertante i...</td>\n",
       "      <td>[orchestra, classical_performance, classical, ...</td>\n",
       "      <td>2</td>\n",
       "      <td>7</td>\n",
       "    </tr>\n",
       "    <tr>\n",
       "      <th>7665</th>\n",
       "      <td>7tSGcD2FFsf2VaWWIaqcfN</td>\n",
       "      <td>Utopia and Visions</td>\n",
       "      <td>34</td>\n",
       "      <td>393400</td>\n",
       "      <td>0</td>\n",
       "      <td>['Don Cherry', 'Tommy Koverhult', 'Tommy Goldm...</td>\n",
       "      <td>['3uPWecBPNXAChysw1uOJwI', '6G3CmG2kj7vybt9ALh...</td>\n",
       "      <td>1972</td>\n",
       "      <td>0.2690</td>\n",
       "      <td>0.3860</td>\n",
       "      <td>...</td>\n",
       "      <td>0.5980</td>\n",
       "      <td>79.661</td>\n",
       "      <td>4</td>\n",
       "      <td>[Don Cherry, Tommy Koverhult, Tommy Goldman, M...</td>\n",
       "      <td>[]</td>\n",
       "      <td>[Don Cherry, Tommy Koverhult, Tommy Goldman, M...</td>\n",
       "      <td>Don Cherry+Utopia and Visions</td>\n",
       "      <td>[jazz_trumpet, turkish_modern_jazz, cool_jazz,...</td>\n",
       "      <td>6</td>\n",
       "      <td>6</td>\n",
       "    </tr>\n",
       "    <tr>\n",
       "      <th>5768</th>\n",
       "      <td>3AKAAbFYypDMas1MV8Nhot</td>\n",
       "      <td>Bach: Brandenburg Concerto No. 2 in F Major, B...</td>\n",
       "      <td>36</td>\n",
       "      <td>307200</td>\n",
       "      <td>0</td>\n",
       "      <td>['Johann Sebastian Bach', 'Mark Bennett', 'Rac...</td>\n",
       "      <td>['5aIqB5nVVvmFsvSdExz408', '0EWX23pjbQ3h28fGpV...</td>\n",
       "      <td>1989</td>\n",
       "      <td>0.6530</td>\n",
       "      <td>0.2910</td>\n",
       "      <td>...</td>\n",
       "      <td>0.8280</td>\n",
       "      <td>96.709</td>\n",
       "      <td>4</td>\n",
       "      <td>[Johann Sebastian Bach, Mark Bennett, Rachel B...</td>\n",
       "      <td>[]</td>\n",
       "      <td>[Johann Sebastian Bach, Mark Bennett, Rachel B...</td>\n",
       "      <td>Johann Sebastian Bach+Bach: Brandenburg Concer...</td>\n",
       "      <td>[baroque_violin, orchestra, classical_performa...</td>\n",
       "      <td>7</td>\n",
       "      <td>6</td>\n",
       "    </tr>\n",
       "    <tr>\n",
       "      <th>7772</th>\n",
       "      <td>6Wt5QBzHp9vdSLAFlvdnDQ</td>\n",
       "      <td>I Need a Girl (Pt. 2) [feat. Loon, Ginuwine &amp; ...</td>\n",
       "      <td>69</td>\n",
       "      <td>285587</td>\n",
       "      <td>0</td>\n",
       "      <td>['Diddy', 'Ginuwine', 'Loon', 'Mario Winans', ...</td>\n",
       "      <td>['59wfkuBoNyhDMQGCljbUbA', '7r8RF1tN2A4CiGEplk...</td>\n",
       "      <td>2004</td>\n",
       "      <td>0.7130</td>\n",
       "      <td>0.4710</td>\n",
       "      <td>...</td>\n",
       "      <td>0.7810</td>\n",
       "      <td>199.765</td>\n",
       "      <td>4</td>\n",
       "      <td>[Diddy, Ginuwine, Loon, Mario Winans, Tammy Ru...</td>\n",
       "      <td>[]</td>\n",
       "      <td>[Diddy, Ginuwine, Loon, Mario Winans, Tammy Ru...</td>\n",
       "      <td>Diddy+I Need a Girl (Pt. 2) [feat. Loon, Ginuw...</td>\n",
       "      <td>[southern_hip_hop, urban_contemporary, dance_p...</td>\n",
       "      <td>13</td>\n",
       "      <td>5</td>\n",
       "    </tr>\n",
       "    <tr>\n",
       "      <th>...</th>\n",
       "      <td>...</td>\n",
       "      <td>...</td>\n",
       "      <td>...</td>\n",
       "      <td>...</td>\n",
       "      <td>...</td>\n",
       "      <td>...</td>\n",
       "      <td>...</td>\n",
       "      <td>...</td>\n",
       "      <td>...</td>\n",
       "      <td>...</td>\n",
       "      <td>...</td>\n",
       "      <td>...</td>\n",
       "      <td>...</td>\n",
       "      <td>...</td>\n",
       "      <td>...</td>\n",
       "      <td>...</td>\n",
       "      <td>...</td>\n",
       "      <td>...</td>\n",
       "      <td>...</td>\n",
       "      <td>...</td>\n",
       "      <td>...</td>\n",
       "    </tr>\n",
       "    <tr>\n",
       "      <th>3422</th>\n",
       "      <td>4udWxUu33DhKGP7uhSbUiN</td>\n",
       "      <td>Reza vela</td>\n",
       "      <td>55</td>\n",
       "      <td>296640</td>\n",
       "      <td>0</td>\n",
       "      <td>['O Rappa']</td>\n",
       "      <td>['1A5QJAC1vdhbhPE25Q0x0f']</td>\n",
       "      <td>2003</td>\n",
       "      <td>0.6360</td>\n",
       "      <td>0.8860</td>\n",
       "      <td>...</td>\n",
       "      <td>0.6710</td>\n",
       "      <td>87.268</td>\n",
       "      <td>4</td>\n",
       "      <td>[O Rappa]</td>\n",
       "      <td>[]</td>\n",
       "      <td>[O Rappa]</td>\n",
       "      <td>O Rappa+Reza vela</td>\n",
       "      <td>[rock_nacional_brasileiro, brazilian_rock, bra...</td>\n",
       "      <td>11</td>\n",
       "      <td>1</td>\n",
       "    </tr>\n",
       "    <tr>\n",
       "      <th>3423</th>\n",
       "      <td>1HtiK1p8rDPE4z57dlYTvM</td>\n",
       "      <td>O salto</td>\n",
       "      <td>40</td>\n",
       "      <td>377507</td>\n",
       "      <td>0</td>\n",
       "      <td>['O Rappa']</td>\n",
       "      <td>['1A5QJAC1vdhbhPE25Q0x0f']</td>\n",
       "      <td>2003</td>\n",
       "      <td>0.5280</td>\n",
       "      <td>0.9650</td>\n",
       "      <td>...</td>\n",
       "      <td>0.7570</td>\n",
       "      <td>157.003</td>\n",
       "      <td>4</td>\n",
       "      <td>[O Rappa]</td>\n",
       "      <td>[]</td>\n",
       "      <td>[O Rappa]</td>\n",
       "      <td>O Rappa+O salto</td>\n",
       "      <td>[rock_nacional_brasileiro, brazilian_rock, bra...</td>\n",
       "      <td>8</td>\n",
       "      <td>1</td>\n",
       "    </tr>\n",
       "    <tr>\n",
       "      <th>3424</th>\n",
       "      <td>1A47ISHc08cBeIA3hifQXn</td>\n",
       "      <td>O que sobrou do céu</td>\n",
       "      <td>55</td>\n",
       "      <td>232667</td>\n",
       "      <td>0</td>\n",
       "      <td>['O Rappa']</td>\n",
       "      <td>['1A5QJAC1vdhbhPE25Q0x0f']</td>\n",
       "      <td>1999</td>\n",
       "      <td>0.3740</td>\n",
       "      <td>0.9460</td>\n",
       "      <td>...</td>\n",
       "      <td>0.7020</td>\n",
       "      <td>105.731</td>\n",
       "      <td>4</td>\n",
       "      <td>[O Rappa]</td>\n",
       "      <td>[]</td>\n",
       "      <td>[O Rappa]</td>\n",
       "      <td>O Rappa+O que sobrou do céu</td>\n",
       "      <td>[rock_nacional_brasileiro, brazilian_rock, bra...</td>\n",
       "      <td>11</td>\n",
       "      <td>1</td>\n",
       "    </tr>\n",
       "    <tr>\n",
       "      <th>3425</th>\n",
       "      <td>3cQmBe2ikbBn0K7IYDl2sp</td>\n",
       "      <td>Monstro invisível</td>\n",
       "      <td>53</td>\n",
       "      <td>280547</td>\n",
       "      <td>0</td>\n",
       "      <td>['O Rappa']</td>\n",
       "      <td>['1A5QJAC1vdhbhPE25Q0x0f']</td>\n",
       "      <td>2008</td>\n",
       "      <td>0.5530</td>\n",
       "      <td>0.8500</td>\n",
       "      <td>...</td>\n",
       "      <td>0.7160</td>\n",
       "      <td>172.919</td>\n",
       "      <td>4</td>\n",
       "      <td>[O Rappa]</td>\n",
       "      <td>[]</td>\n",
       "      <td>[O Rappa]</td>\n",
       "      <td>O Rappa+Monstro invisível</td>\n",
       "      <td>[rock_nacional_brasileiro, brazilian_rock, bra...</td>\n",
       "      <td>10</td>\n",
       "      <td>1</td>\n",
       "    </tr>\n",
       "    <tr>\n",
       "      <th>10046</th>\n",
       "      <td>3tvyQCSm1QcWURgGvygvke</td>\n",
       "      <td>Am I Wrong</td>\n",
       "      <td>53</td>\n",
       "      <td>138533</td>\n",
       "      <td>0</td>\n",
       "      <td>[\"Keb' Mo'\"]</td>\n",
       "      <td>['6iDaoPZVgxrTkndDCisX8F']</td>\n",
       "      <td>1994</td>\n",
       "      <td>0.8820</td>\n",
       "      <td>0.4760</td>\n",
       "      <td>...</td>\n",
       "      <td>0.9640</td>\n",
       "      <td>112.650</td>\n",
       "      <td>4</td>\n",
       "      <td>[ Mo]</td>\n",
       "      <td>[Keb' Mo']</td>\n",
       "      <td>[ Mo]</td>\n",
       "      <td>Mo+Am I Wrong</td>\n",
       "      <td>[]</td>\n",
       "      <td>10</td>\n",
       "      <td>1</td>\n",
       "    </tr>\n",
       "  </tbody>\n",
       "</table>\n",
       "<p>10047 rows × 27 columns</p>\n",
       "</div>"
      ],
      "text/plain": [
       "                      TrackID  \\\n",
       "7549   0kNwj2qeErviyMF4lrhgn9   \n",
       "244    1IEqRtID6cqzspmededRM1   \n",
       "7665   7tSGcD2FFsf2VaWWIaqcfN   \n",
       "5768   3AKAAbFYypDMas1MV8Nhot   \n",
       "7772   6Wt5QBzHp9vdSLAFlvdnDQ   \n",
       "...                       ...   \n",
       "3422   4udWxUu33DhKGP7uhSbUiN   \n",
       "3423   1HtiK1p8rDPE4z57dlYTvM   \n",
       "3424   1A47ISHc08cBeIA3hifQXn   \n",
       "3425   3cQmBe2ikbBn0K7IYDl2sp   \n",
       "10046  3tvyQCSm1QcWURgGvygvke   \n",
       "\n",
       "                                               TrackName  Popularity  \\\n",
       "7549                                      The Hawk Talks           0   \n",
       "244     Sinfonia Concertante in E-Flat Major: II. Adagio          11   \n",
       "7665                                  Utopia and Visions          34   \n",
       "5768   Bach: Brandenburg Concerto No. 2 in F Major, B...          36   \n",
       "7772   I Need a Girl (Pt. 2) [feat. Loon, Ginuwine & ...          69   \n",
       "...                                                  ...         ...   \n",
       "3422                                           Reza vela          55   \n",
       "3423                                             O salto          40   \n",
       "3424                                 O que sobrou do céu          55   \n",
       "3425                                   Monstro invisível          53   \n",
       "10046                                         Am I Wrong          53   \n",
       "\n",
       "       Duration  Explicit                                            Artists  \\\n",
       "7549     197267         0  ['Duke Ellington', 'Clark Terry', 'Willie Cook...   \n",
       "244      461133         0  ['Wolfgang Amadeus Mozart', 'Alfred Tolksdorf'...   \n",
       "7665     393400         0  ['Don Cherry', 'Tommy Koverhult', 'Tommy Goldm...   \n",
       "5768     307200         0  ['Johann Sebastian Bach', 'Mark Bennett', 'Rac...   \n",
       "7772     285587         0  ['Diddy', 'Ginuwine', 'Loon', 'Mario Winans', ...   \n",
       "...         ...       ...                                                ...   \n",
       "3422     296640         0                                        ['O Rappa']   \n",
       "3423     377507         0                                        ['O Rappa']   \n",
       "3424     232667         0                                        ['O Rappa']   \n",
       "3425     280547         0                                        ['O Rappa']   \n",
       "10046    138533         0                                       [\"Keb' Mo'\"]   \n",
       "\n",
       "                                               ArtistsID  ReleaseYear  \\\n",
       "7549   ['4F7Q5NV6h5TSwCainz8S5A', '62xdwGEOLoGQxKUqoJ...         1954   \n",
       "244    ['4NJhFmfw43RLBLjQvxDuRS', '1PVQx4ZEtmh2KO5nHR...         1967   \n",
       "7665   ['3uPWecBPNXAChysw1uOJwI', '6G3CmG2kj7vybt9ALh...         1972   \n",
       "5768   ['5aIqB5nVVvmFsvSdExz408', '0EWX23pjbQ3h28fGpV...         1989   \n",
       "7772   ['59wfkuBoNyhDMQGCljbUbA', '7r8RF1tN2A4CiGEplk...         2004   \n",
       "...                                                  ...          ...   \n",
       "3422                          ['1A5QJAC1vdhbhPE25Q0x0f']         2003   \n",
       "3423                          ['1A5QJAC1vdhbhPE25Q0x0f']         2003   \n",
       "3424                          ['1A5QJAC1vdhbhPE25Q0x0f']         1999   \n",
       "3425                          ['1A5QJAC1vdhbhPE25Q0x0f']         2008   \n",
       "10046                         ['6iDaoPZVgxrTkndDCisX8F']         1994   \n",
       "\n",
       "       Danceability  Energy  ...  Valence    Tempo  TimeSignature  \\\n",
       "7549         0.4500  0.6210  ...   0.4270  110.788              4   \n",
       "244          0.0663  0.0245  ...   0.0399   69.117              4   \n",
       "7665         0.2690  0.3860  ...   0.5980   79.661              4   \n",
       "5768         0.6530  0.2910  ...   0.8280   96.709              4   \n",
       "7772         0.7130  0.4710  ...   0.7810  199.765              4   \n",
       "...             ...     ...  ...      ...      ...            ...   \n",
       "3422         0.6360  0.8860  ...   0.6710   87.268              4   \n",
       "3423         0.5280  0.9650  ...   0.7570  157.003              4   \n",
       "3424         0.3740  0.9460  ...   0.7020  105.731              4   \n",
       "3425         0.5530  0.8500  ...   0.7160  172.919              4   \n",
       "10046        0.8820  0.4760  ...   0.9640  112.650              4   \n",
       "\n",
       "                                          artists_upd_v1  artists_upd_v2  \\\n",
       "7549   [Duke Ellington, Clark Terry, Willie Cook, Cat...              []   \n",
       "244    [Wolfgang Amadeus Mozart, Alfred Tolksdorf, Ka...              []   \n",
       "7665   [Don Cherry, Tommy Koverhult, Tommy Goldman, M...              []   \n",
       "5768   [Johann Sebastian Bach, Mark Bennett, Rachel B...              []   \n",
       "7772   [Diddy, Ginuwine, Loon, Mario Winans, Tammy Ru...              []   \n",
       "...                                                  ...             ...   \n",
       "3422                                           [O Rappa]              []   \n",
       "3423                                           [O Rappa]              []   \n",
       "3424                                           [O Rappa]              []   \n",
       "3425                                           [O Rappa]              []   \n",
       "10046                                              [ Mo]      [Keb' Mo']   \n",
       "\n",
       "                                             artists_upd  \\\n",
       "7549   [Duke Ellington, Clark Terry, Willie Cook, Cat...   \n",
       "244    [Wolfgang Amadeus Mozart, Alfred Tolksdorf, Ka...   \n",
       "7665   [Don Cherry, Tommy Koverhult, Tommy Goldman, M...   \n",
       "5768   [Johann Sebastian Bach, Mark Bennett, Rachel B...   \n",
       "7772   [Diddy, Ginuwine, Loon, Mario Winans, Tammy Ru...   \n",
       "...                                                  ...   \n",
       "3422                                           [O Rappa]   \n",
       "3423                                           [O Rappa]   \n",
       "3424                                           [O Rappa]   \n",
       "3425                                           [O Rappa]   \n",
       "10046                                              [ Mo]   \n",
       "\n",
       "                                            artists_song  \\\n",
       "7549                       Duke Ellington+The Hawk Talks   \n",
       "244    Wolfgang Amadeus Mozart+Sinfonia Concertante i...   \n",
       "7665                       Don Cherry+Utopia and Visions   \n",
       "5768   Johann Sebastian Bach+Bach: Brandenburg Concer...   \n",
       "7772   Diddy+I Need a Girl (Pt. 2) [feat. Loon, Ginuw...   \n",
       "...                                                  ...   \n",
       "3422                                   O Rappa+Reza vela   \n",
       "3423                                     O Rappa+O salto   \n",
       "3424                         O Rappa+O que sobrou do céu   \n",
       "3425                           O Rappa+Monstro invisível   \n",
       "10046                                      Mo+Am I Wrong   \n",
       "\n",
       "                                consolidates_genre_lists  popularity_red  len  \n",
       "7549   [harlem_renaissance, jazz_piano, soul_jazz, ha...               0   15  \n",
       "244    [orchestra, classical_performance, classical, ...               2    7  \n",
       "7665   [jazz_trumpet, turkish_modern_jazz, cool_jazz,...               6    6  \n",
       "5768   [baroque_violin, orchestra, classical_performa...               7    6  \n",
       "7772   [southern_hip_hop, urban_contemporary, dance_p...              13    5  \n",
       "...                                                  ...             ...  ...  \n",
       "3422   [rock_nacional_brasileiro, brazilian_rock, bra...              11    1  \n",
       "3423   [rock_nacional_brasileiro, brazilian_rock, bra...               8    1  \n",
       "3424   [rock_nacional_brasileiro, brazilian_rock, bra...              11    1  \n",
       "3425   [rock_nacional_brasileiro, brazilian_rock, bra...              10    1  \n",
       "10046                                                 []              10    1  \n",
       "\n",
       "[10047 rows x 27 columns]"
      ]
     },
     "execution_count": 10,
     "metadata": {},
     "output_type": "execute_result"
    }
   ],
   "source": [
    "songs_filtered_sorted = songs_filtered.sort_values(by='len', ascending=False)\n",
    "songs_filtered_sorted"
   ]
  },
  {
   "cell_type": "code",
   "execution_count": 11,
   "metadata": {},
   "outputs": [
    {
     "data": {
      "text/html": [
       "<div>\n",
       "<style scoped>\n",
       "    .dataframe tbody tr th:only-of-type {\n",
       "        vertical-align: middle;\n",
       "    }\n",
       "\n",
       "    .dataframe tbody tr th {\n",
       "        vertical-align: top;\n",
       "    }\n",
       "\n",
       "    .dataframe thead th {\n",
       "        text-align: right;\n",
       "    }\n",
       "</style>\n",
       "<table border=\"1\" class=\"dataframe\">\n",
       "  <thead>\n",
       "    <tr style=\"text-align: right;\">\n",
       "      <th></th>\n",
       "      <th>playlist</th>\n",
       "      <th>track</th>\n",
       "      <th>trackid</th>\n",
       "      <th>spotifyid</th>\n",
       "      <th>title</th>\n",
       "      <th>artist</th>\n",
       "      <th>album</th>\n",
       "      <th>imgurl</th>\n",
       "      <th>imgfile</th>\n",
       "      <th>popularity</th>\n",
       "      <th>duration</th>\n",
       "    </tr>\n",
       "  </thead>\n",
       "  <tbody>\n",
       "    <tr>\n",
       "      <th>0</th>\n",
       "      <td>1</td>\n",
       "      <td>1</td>\n",
       "      <td>1</td>\n",
       "      <td>02JnoHSIDbpVW40uipjKcL</td>\n",
       "      <td>Roxanne</td>\n",
       "      <td>1</td>\n",
       "      <td>1</td>\n",
       "      <td>NaN</td>\n",
       "      <td>NaN</td>\n",
       "      <td>0.00</td>\n",
       "      <td>192.948</td>\n",
       "    </tr>\n",
       "    <tr>\n",
       "      <th>1</th>\n",
       "      <td>1</td>\n",
       "      <td>2</td>\n",
       "      <td>2</td>\n",
       "      <td>01HNAQL86oZsKECUfJiAwk</td>\n",
       "      <td>22 Acacia Avenue</td>\n",
       "      <td>2</td>\n",
       "      <td>2</td>\n",
       "      <td>NaN</td>\n",
       "      <td>NaN</td>\n",
       "      <td>0.00</td>\n",
       "      <td>395.720</td>\n",
       "    </tr>\n",
       "    <tr>\n",
       "      <th>2</th>\n",
       "      <td>1</td>\n",
       "      <td>3</td>\n",
       "      <td>3</td>\n",
       "      <td>0eCxvvcJUgMmFOEv0tphgh</td>\n",
       "      <td>Lovely Ladies</td>\n",
       "      <td>3</td>\n",
       "      <td>3</td>\n",
       "      <td>NaN</td>\n",
       "      <td>NaN</td>\n",
       "      <td>0.00</td>\n",
       "      <td>231.946</td>\n",
       "    </tr>\n",
       "    <tr>\n",
       "      <th>3</th>\n",
       "      <td>1</td>\n",
       "      <td>4</td>\n",
       "      <td>4</td>\n",
       "      <td>1pT9RHD2v3aHqENfVaFPw4</td>\n",
       "      <td>Sweet Painted Lady</td>\n",
       "      <td>4</td>\n",
       "      <td>4</td>\n",
       "      <td>NaN</td>\n",
       "      <td>NaN</td>\n",
       "      <td>0.32</td>\n",
       "      <td>234.733</td>\n",
       "    </tr>\n",
       "    <tr>\n",
       "      <th>4</th>\n",
       "      <td>1</td>\n",
       "      <td>5</td>\n",
       "      <td>5</td>\n",
       "      <td>68PVZq98OxgeWBWbskYQLt</td>\n",
       "      <td>Build God, Then We'll Talk</td>\n",
       "      <td>5</td>\n",
       "      <td>5</td>\n",
       "      <td>NaN</td>\n",
       "      <td>NaN</td>\n",
       "      <td>0.36</td>\n",
       "      <td>220.720</td>\n",
       "    </tr>\n",
       "    <tr>\n",
       "      <th>...</th>\n",
       "      <td>...</td>\n",
       "      <td>...</td>\n",
       "      <td>...</td>\n",
       "      <td>...</td>\n",
       "      <td>...</td>\n",
       "      <td>...</td>\n",
       "      <td>...</td>\n",
       "      <td>...</td>\n",
       "      <td>...</td>\n",
       "      <td>...</td>\n",
       "      <td>...</td>\n",
       "    </tr>\n",
       "    <tr>\n",
       "      <th>1024706</th>\n",
       "      <td>10697</td>\n",
       "      <td>416541</td>\n",
       "      <td>416541</td>\n",
       "      <td>2dkw6BVxhDSBr91gT9hOGd</td>\n",
       "      <td>Stammgast</td>\n",
       "      <td>14577</td>\n",
       "      <td>187057</td>\n",
       "      <td>NaN</td>\n",
       "      <td>NaN</td>\n",
       "      <td>0.16</td>\n",
       "      <td>338.314</td>\n",
       "    </tr>\n",
       "    <tr>\n",
       "      <th>1024707</th>\n",
       "      <td>10697</td>\n",
       "      <td>410904</td>\n",
       "      <td>410904</td>\n",
       "      <td>0BkKep2Tf9JlPr2g1zbJiw</td>\n",
       "      <td>Treibsand</td>\n",
       "      <td>31649</td>\n",
       "      <td>174485</td>\n",
       "      <td>NaN</td>\n",
       "      <td>NaN</td>\n",
       "      <td>0.08</td>\n",
       "      <td>416.106</td>\n",
       "    </tr>\n",
       "    <tr>\n",
       "      <th>1024708</th>\n",
       "      <td>10697</td>\n",
       "      <td>352239</td>\n",
       "      <td>352239</td>\n",
       "      <td>7i5ZRYvZjg0YHFI5P1qfsb</td>\n",
       "      <td>Elevator</td>\n",
       "      <td>11893</td>\n",
       "      <td>175485</td>\n",
       "      <td>NaN</td>\n",
       "      <td>NaN</td>\n",
       "      <td>0.27</td>\n",
       "      <td>297.465</td>\n",
       "    </tr>\n",
       "    <tr>\n",
       "      <th>1024709</th>\n",
       "      <td>10697</td>\n",
       "      <td>410905</td>\n",
       "      <td>410905</td>\n",
       "      <td>0mYrkZjdEbCWfTSLAHU4fO</td>\n",
       "      <td>Well Done</td>\n",
       "      <td>44551</td>\n",
       "      <td>199938</td>\n",
       "      <td>NaN</td>\n",
       "      <td>NaN</td>\n",
       "      <td>0.00</td>\n",
       "      <td>501.453</td>\n",
       "    </tr>\n",
       "    <tr>\n",
       "      <th>1024710</th>\n",
       "      <td>10697</td>\n",
       "      <td>362620</td>\n",
       "      <td>362620</td>\n",
       "      <td>0591RV3kYQerXvp8PVYXhT</td>\n",
       "      <td>No Sympathy</td>\n",
       "      <td>4130</td>\n",
       "      <td>180457</td>\n",
       "      <td>NaN</td>\n",
       "      <td>NaN</td>\n",
       "      <td>0.30</td>\n",
       "      <td>174.800</td>\n",
       "    </tr>\n",
       "  </tbody>\n",
       "</table>\n",
       "<p>1024711 rows × 11 columns</p>\n",
       "</div>"
      ],
      "text/plain": [
       "         playlist   track  trackid               spotifyid  \\\n",
       "0               1       1        1  02JnoHSIDbpVW40uipjKcL   \n",
       "1               1       2        2  01HNAQL86oZsKECUfJiAwk   \n",
       "2               1       3        3  0eCxvvcJUgMmFOEv0tphgh   \n",
       "3               1       4        4  1pT9RHD2v3aHqENfVaFPw4   \n",
       "4               1       5        5  68PVZq98OxgeWBWbskYQLt   \n",
       "...           ...     ...      ...                     ...   \n",
       "1024706     10697  416541   416541  2dkw6BVxhDSBr91gT9hOGd   \n",
       "1024707     10697  410904   410904  0BkKep2Tf9JlPr2g1zbJiw   \n",
       "1024708     10697  352239   352239  7i5ZRYvZjg0YHFI5P1qfsb   \n",
       "1024709     10697  410905   410905  0mYrkZjdEbCWfTSLAHU4fO   \n",
       "1024710     10697  362620   362620  0591RV3kYQerXvp8PVYXhT   \n",
       "\n",
       "                              title  artist   album  imgurl  imgfile  \\\n",
       "0                           Roxanne       1       1     NaN      NaN   \n",
       "1                  22 Acacia Avenue       2       2     NaN      NaN   \n",
       "2                     Lovely Ladies       3       3     NaN      NaN   \n",
       "3                Sweet Painted Lady       4       4     NaN      NaN   \n",
       "4        Build God, Then We'll Talk       5       5     NaN      NaN   \n",
       "...                             ...     ...     ...     ...      ...   \n",
       "1024706                   Stammgast   14577  187057     NaN      NaN   \n",
       "1024707                   Treibsand   31649  174485     NaN      NaN   \n",
       "1024708                    Elevator   11893  175485     NaN      NaN   \n",
       "1024709                   Well Done   44551  199938     NaN      NaN   \n",
       "1024710                 No Sympathy    4130  180457     NaN      NaN   \n",
       "\n",
       "         popularity  duration  \n",
       "0              0.00   192.948  \n",
       "1              0.00   395.720  \n",
       "2              0.00   231.946  \n",
       "3              0.32   234.733  \n",
       "4              0.36   220.720  \n",
       "...             ...       ...  \n",
       "1024706        0.16   338.314  \n",
       "1024707        0.08   416.106  \n",
       "1024708        0.27   297.465  \n",
       "1024709        0.00   501.453  \n",
       "1024710        0.30   174.800  \n",
       "\n",
       "[1024711 rows x 11 columns]"
      ]
     },
     "execution_count": 11,
     "metadata": {},
     "output_type": "execute_result"
    }
   ],
   "source": [
    "playlist_songs_with_ids = playlists_tracks.merge(tracks, how='left', left_on='track', right_on='trackid')\n",
    "playlist_songs_with_ids"
   ]
  },
  {
   "cell_type": "code",
   "execution_count": 12,
   "metadata": {},
   "outputs": [],
   "source": [
    "#function to build entire feature set\n",
    "def create_feature_set(df, float_cols):\n",
    "    \"\"\" \n",
    "    Process spotify df to create a final set of features that will be used to generate recommendations\n",
    "\n",
    "    Parameters: \n",
    "        df (pandas dataframe): Spotify Dataframe\n",
    "        float_cols (list(str)): List of float columns that will be scaled \n",
    "        \n",
    "    Returns: \n",
    "        final: final set of features \n",
    "    \"\"\"\n",
    "    \n",
    "    #tfidf genre lists\n",
    "    tfidf = TfidfVectorizer()\n",
    "    tfidf_matrix =  tfidf.fit_transform(df['consolidates_genre_lists'].apply(lambda x: \" \".join(x)))\n",
    "    genre_df = pd.DataFrame(tfidf_matrix.toarray())\n",
    "    genre_df.columns = ['genre' + \"|\" + i for i in tfidf.get_feature_names()]\n",
    "    genre_df.reset_index(drop = True, inplace=True)\n",
    "\n",
    "    # explicity_ohe = ohe_prep(df, 'Explicit','exp')    \n",
    "   \n",
    "    # popularity_ohe = ohe_prep(df, 'popularity_red','pop') * 0.15\n",
    "\n",
    "    #scale float columns\n",
    "    floats = df[float_cols].reset_index(drop = True)\n",
    "    scaler = MinMaxScaler()\n",
    "    floats_scaled = pd.DataFrame(scaler.fit_transform(floats), columns = floats.columns)\n",
    "\n",
    "    #concanenate all features\n",
    "    final = pd.concat([genre_df, floats_scaled], axis = 1)\n",
    "     \n",
    "    #add song id\n",
    "    final['TrackID']=df['TrackID'].values\n",
    "    \n",
    "    return final"
   ]
  },
  {
   "cell_type": "code",
   "execution_count": 13,
   "metadata": {},
   "outputs": [
    {
     "name": "stderr",
     "output_type": "stream",
     "text": [
      "c:\\Users\\edsta\\anaconda3\\lib\\site-packages\\sklearn\\utils\\deprecation.py:87: FutureWarning: Function get_feature_names is deprecated; get_feature_names is deprecated in 1.0 and will be removed in 1.2. Please use get_feature_names_out instead.\n",
      "  warnings.warn(msg, category=FutureWarning)\n"
     ]
    }
   ],
   "source": [
    "complete_feature_set = create_feature_set(songs_filtered, float_cols=float_cols)"
   ]
  },
  {
   "cell_type": "code",
   "execution_count": 14,
   "metadata": {},
   "outputs": [
    {
     "data": {
      "text/html": [
       "<div>\n",
       "<style scoped>\n",
       "    .dataframe tbody tr th:only-of-type {\n",
       "        vertical-align: middle;\n",
       "    }\n",
       "\n",
       "    .dataframe tbody tr th {\n",
       "        vertical-align: top;\n",
       "    }\n",
       "\n",
       "    .dataframe thead th {\n",
       "        text-align: right;\n",
       "    }\n",
       "</style>\n",
       "<table border=\"1\" class=\"dataframe\">\n",
       "  <thead>\n",
       "    <tr style=\"text-align: right;\">\n",
       "      <th></th>\n",
       "      <th>genre|_hip_hop</th>\n",
       "      <th>genre|a_cappella</th>\n",
       "      <th>genre|abstract</th>\n",
       "      <th>genre|abstract_hip_hop</th>\n",
       "      <th>genre|accordion</th>\n",
       "      <th>genre|acid_house</th>\n",
       "      <th>genre|acid_jazz</th>\n",
       "      <th>genre|acid_rock</th>\n",
       "      <th>genre|acid_trance</th>\n",
       "      <th>genre|acousmatic</th>\n",
       "      <th>...</th>\n",
       "      <th>Mode</th>\n",
       "      <th>Speechiness</th>\n",
       "      <th>Acousticness</th>\n",
       "      <th>Instrumentalness</th>\n",
       "      <th>Liveness</th>\n",
       "      <th>Valence</th>\n",
       "      <th>Tempo</th>\n",
       "      <th>TimeSignature</th>\n",
       "      <th>popularity_red</th>\n",
       "      <th>TrackID</th>\n",
       "    </tr>\n",
       "  </thead>\n",
       "  <tbody>\n",
       "    <tr>\n",
       "      <th>0</th>\n",
       "      <td>0.0</td>\n",
       "      <td>0.0</td>\n",
       "      <td>0.0</td>\n",
       "      <td>0.0</td>\n",
       "      <td>0.0</td>\n",
       "      <td>0.0</td>\n",
       "      <td>0.0</td>\n",
       "      <td>0.0</td>\n",
       "      <td>0.0</td>\n",
       "      <td>0.0</td>\n",
       "      <td>...</td>\n",
       "      <td>1.0</td>\n",
       "      <td>0.071320</td>\n",
       "      <td>0.022892</td>\n",
       "      <td>0.000265</td>\n",
       "      <td>0.241206</td>\n",
       "      <td>0.460685</td>\n",
       "      <td>0.543605</td>\n",
       "      <td>0.6</td>\n",
       "      <td>0.3750</td>\n",
       "      <td>7s8v7hQ80FZyL1N9FHZW5W</td>\n",
       "    </tr>\n",
       "    <tr>\n",
       "      <th>1</th>\n",
       "      <td>0.0</td>\n",
       "      <td>0.0</td>\n",
       "      <td>0.0</td>\n",
       "      <td>0.0</td>\n",
       "      <td>0.0</td>\n",
       "      <td>0.0</td>\n",
       "      <td>0.0</td>\n",
       "      <td>0.0</td>\n",
       "      <td>0.0</td>\n",
       "      <td>0.0</td>\n",
       "      <td>...</td>\n",
       "      <td>1.0</td>\n",
       "      <td>0.041017</td>\n",
       "      <td>0.968876</td>\n",
       "      <td>0.000000</td>\n",
       "      <td>0.221106</td>\n",
       "      <td>0.576613</td>\n",
       "      <td>0.358670</td>\n",
       "      <td>1.0</td>\n",
       "      <td>0.3750</td>\n",
       "      <td>38Mxx28rpORDuDAGuZe1F4</td>\n",
       "    </tr>\n",
       "    <tr>\n",
       "      <th>2</th>\n",
       "      <td>0.0</td>\n",
       "      <td>0.0</td>\n",
       "      <td>0.0</td>\n",
       "      <td>0.0</td>\n",
       "      <td>0.0</td>\n",
       "      <td>0.0</td>\n",
       "      <td>0.0</td>\n",
       "      <td>0.0</td>\n",
       "      <td>0.0</td>\n",
       "      <td>0.0</td>\n",
       "      <td>...</td>\n",
       "      <td>1.0</td>\n",
       "      <td>0.125541</td>\n",
       "      <td>0.037249</td>\n",
       "      <td>0.000006</td>\n",
       "      <td>0.242211</td>\n",
       "      <td>0.857863</td>\n",
       "      <td>0.636619</td>\n",
       "      <td>0.8</td>\n",
       "      <td>0.4375</td>\n",
       "      <td>6mGP1LAOLKTUcu1TpAF8vy</td>\n",
       "    </tr>\n",
       "    <tr>\n",
       "      <th>3</th>\n",
       "      <td>0.0</td>\n",
       "      <td>0.0</td>\n",
       "      <td>0.0</td>\n",
       "      <td>0.0</td>\n",
       "      <td>0.0</td>\n",
       "      <td>0.0</td>\n",
       "      <td>0.0</td>\n",
       "      <td>0.0</td>\n",
       "      <td>0.0</td>\n",
       "      <td>0.0</td>\n",
       "      <td>...</td>\n",
       "      <td>1.0</td>\n",
       "      <td>0.030087</td>\n",
       "      <td>0.012450</td>\n",
       "      <td>0.000000</td>\n",
       "      <td>0.113568</td>\n",
       "      <td>0.620968</td>\n",
       "      <td>0.549622</td>\n",
       "      <td>0.8</td>\n",
       "      <td>0.3125</td>\n",
       "      <td>4G1GhiYTkfgsmMv1xlL6jO</td>\n",
       "    </tr>\n",
       "    <tr>\n",
       "      <th>4</th>\n",
       "      <td>0.0</td>\n",
       "      <td>0.0</td>\n",
       "      <td>0.0</td>\n",
       "      <td>0.0</td>\n",
       "      <td>0.0</td>\n",
       "      <td>0.0</td>\n",
       "      <td>0.0</td>\n",
       "      <td>0.0</td>\n",
       "      <td>0.0</td>\n",
       "      <td>0.0</td>\n",
       "      <td>...</td>\n",
       "      <td>1.0</td>\n",
       "      <td>0.035065</td>\n",
       "      <td>0.023695</td>\n",
       "      <td>0.000000</td>\n",
       "      <td>0.369849</td>\n",
       "      <td>0.562500</td>\n",
       "      <td>0.423024</td>\n",
       "      <td>0.8</td>\n",
       "      <td>0.3125</td>\n",
       "      <td>10hWSYRQZ4B1IjPafMhiKr</td>\n",
       "    </tr>\n",
       "    <tr>\n",
       "      <th>...</th>\n",
       "      <td>...</td>\n",
       "      <td>...</td>\n",
       "      <td>...</td>\n",
       "      <td>...</td>\n",
       "      <td>...</td>\n",
       "      <td>...</td>\n",
       "      <td>...</td>\n",
       "      <td>...</td>\n",
       "      <td>...</td>\n",
       "      <td>...</td>\n",
       "      <td>...</td>\n",
       "      <td>...</td>\n",
       "      <td>...</td>\n",
       "      <td>...</td>\n",
       "      <td>...</td>\n",
       "      <td>...</td>\n",
       "      <td>...</td>\n",
       "      <td>...</td>\n",
       "      <td>...</td>\n",
       "      <td>...</td>\n",
       "      <td>...</td>\n",
       "    </tr>\n",
       "    <tr>\n",
       "      <th>10042</th>\n",
       "      <td>0.0</td>\n",
       "      <td>0.0</td>\n",
       "      <td>0.0</td>\n",
       "      <td>0.0</td>\n",
       "      <td>0.0</td>\n",
       "      <td>0.0</td>\n",
       "      <td>0.0</td>\n",
       "      <td>0.0</td>\n",
       "      <td>0.0</td>\n",
       "      <td>0.0</td>\n",
       "      <td>...</td>\n",
       "      <td>0.0</td>\n",
       "      <td>0.038528</td>\n",
       "      <td>0.347390</td>\n",
       "      <td>0.000000</td>\n",
       "      <td>0.050854</td>\n",
       "      <td>0.969758</td>\n",
       "      <td>0.573624</td>\n",
       "      <td>0.8</td>\n",
       "      <td>0.1875</td>\n",
       "      <td>0tNoPlTA4WasOiJNyRbRvh</td>\n",
       "    </tr>\n",
       "    <tr>\n",
       "      <th>10043</th>\n",
       "      <td>0.0</td>\n",
       "      <td>0.0</td>\n",
       "      <td>0.0</td>\n",
       "      <td>0.0</td>\n",
       "      <td>0.0</td>\n",
       "      <td>0.0</td>\n",
       "      <td>0.0</td>\n",
       "      <td>0.0</td>\n",
       "      <td>0.0</td>\n",
       "      <td>0.0</td>\n",
       "      <td>...</td>\n",
       "      <td>0.0</td>\n",
       "      <td>0.053788</td>\n",
       "      <td>0.348394</td>\n",
       "      <td>0.000009</td>\n",
       "      <td>0.050955</td>\n",
       "      <td>0.842742</td>\n",
       "      <td>0.515078</td>\n",
       "      <td>0.8</td>\n",
       "      <td>0.4375</td>\n",
       "      <td>022XE9RZVU3a9nULENXfnm</td>\n",
       "    </tr>\n",
       "    <tr>\n",
       "      <th>10044</th>\n",
       "      <td>0.0</td>\n",
       "      <td>0.0</td>\n",
       "      <td>0.0</td>\n",
       "      <td>0.0</td>\n",
       "      <td>0.0</td>\n",
       "      <td>0.0</td>\n",
       "      <td>0.0</td>\n",
       "      <td>0.0</td>\n",
       "      <td>0.0</td>\n",
       "      <td>0.0</td>\n",
       "      <td>...</td>\n",
       "      <td>1.0</td>\n",
       "      <td>0.074892</td>\n",
       "      <td>0.117470</td>\n",
       "      <td>0.000000</td>\n",
       "      <td>0.070452</td>\n",
       "      <td>0.919355</td>\n",
       "      <td>0.670481</td>\n",
       "      <td>0.8</td>\n",
       "      <td>0.2500</td>\n",
       "      <td>073V7jY2AD5JXEnej4JUd1</td>\n",
       "    </tr>\n",
       "    <tr>\n",
       "      <th>10045</th>\n",
       "      <td>0.0</td>\n",
       "      <td>0.0</td>\n",
       "      <td>0.0</td>\n",
       "      <td>0.0</td>\n",
       "      <td>0.0</td>\n",
       "      <td>0.0</td>\n",
       "      <td>0.0</td>\n",
       "      <td>0.0</td>\n",
       "      <td>0.0</td>\n",
       "      <td>0.0</td>\n",
       "      <td>...</td>\n",
       "      <td>1.0</td>\n",
       "      <td>0.067424</td>\n",
       "      <td>0.416667</td>\n",
       "      <td>0.000251</td>\n",
       "      <td>0.050352</td>\n",
       "      <td>0.952621</td>\n",
       "      <td>0.756854</td>\n",
       "      <td>0.8</td>\n",
       "      <td>0.5000</td>\n",
       "      <td>0VVMYrDOTj2MQSXID2WMTI</td>\n",
       "    </tr>\n",
       "    <tr>\n",
       "      <th>10046</th>\n",
       "      <td>0.0</td>\n",
       "      <td>0.0</td>\n",
       "      <td>0.0</td>\n",
       "      <td>0.0</td>\n",
       "      <td>0.0</td>\n",
       "      <td>0.0</td>\n",
       "      <td>0.0</td>\n",
       "      <td>0.0</td>\n",
       "      <td>0.0</td>\n",
       "      <td>0.0</td>\n",
       "      <td>...</td>\n",
       "      <td>1.0</td>\n",
       "      <td>0.057143</td>\n",
       "      <td>0.459839</td>\n",
       "      <td>0.000002</td>\n",
       "      <td>0.044724</td>\n",
       "      <td>0.971774</td>\n",
       "      <td>0.512295</td>\n",
       "      <td>0.8</td>\n",
       "      <td>0.6250</td>\n",
       "      <td>3tvyQCSm1QcWURgGvygvke</td>\n",
       "    </tr>\n",
       "  </tbody>\n",
       "</table>\n",
       "<p>10047 rows × 2041 columns</p>\n",
       "</div>"
      ],
      "text/plain": [
       "       genre|_hip_hop  genre|a_cappella  genre|abstract  \\\n",
       "0                 0.0               0.0             0.0   \n",
       "1                 0.0               0.0             0.0   \n",
       "2                 0.0               0.0             0.0   \n",
       "3                 0.0               0.0             0.0   \n",
       "4                 0.0               0.0             0.0   \n",
       "...               ...               ...             ...   \n",
       "10042             0.0               0.0             0.0   \n",
       "10043             0.0               0.0             0.0   \n",
       "10044             0.0               0.0             0.0   \n",
       "10045             0.0               0.0             0.0   \n",
       "10046             0.0               0.0             0.0   \n",
       "\n",
       "       genre|abstract_hip_hop  genre|accordion  genre|acid_house  \\\n",
       "0                         0.0              0.0               0.0   \n",
       "1                         0.0              0.0               0.0   \n",
       "2                         0.0              0.0               0.0   \n",
       "3                         0.0              0.0               0.0   \n",
       "4                         0.0              0.0               0.0   \n",
       "...                       ...              ...               ...   \n",
       "10042                     0.0              0.0               0.0   \n",
       "10043                     0.0              0.0               0.0   \n",
       "10044                     0.0              0.0               0.0   \n",
       "10045                     0.0              0.0               0.0   \n",
       "10046                     0.0              0.0               0.0   \n",
       "\n",
       "       genre|acid_jazz  genre|acid_rock  genre|acid_trance  genre|acousmatic  \\\n",
       "0                  0.0              0.0                0.0               0.0   \n",
       "1                  0.0              0.0                0.0               0.0   \n",
       "2                  0.0              0.0                0.0               0.0   \n",
       "3                  0.0              0.0                0.0               0.0   \n",
       "4                  0.0              0.0                0.0               0.0   \n",
       "...                ...              ...                ...               ...   \n",
       "10042              0.0              0.0                0.0               0.0   \n",
       "10043              0.0              0.0                0.0               0.0   \n",
       "10044              0.0              0.0                0.0               0.0   \n",
       "10045              0.0              0.0                0.0               0.0   \n",
       "10046              0.0              0.0                0.0               0.0   \n",
       "\n",
       "       ...  Mode  Speechiness  Acousticness  Instrumentalness  Liveness  \\\n",
       "0      ...   1.0     0.071320      0.022892          0.000265  0.241206   \n",
       "1      ...   1.0     0.041017      0.968876          0.000000  0.221106   \n",
       "2      ...   1.0     0.125541      0.037249          0.000006  0.242211   \n",
       "3      ...   1.0     0.030087      0.012450          0.000000  0.113568   \n",
       "4      ...   1.0     0.035065      0.023695          0.000000  0.369849   \n",
       "...    ...   ...          ...           ...               ...       ...   \n",
       "10042  ...   0.0     0.038528      0.347390          0.000000  0.050854   \n",
       "10043  ...   0.0     0.053788      0.348394          0.000009  0.050955   \n",
       "10044  ...   1.0     0.074892      0.117470          0.000000  0.070452   \n",
       "10045  ...   1.0     0.067424      0.416667          0.000251  0.050352   \n",
       "10046  ...   1.0     0.057143      0.459839          0.000002  0.044724   \n",
       "\n",
       "        Valence     Tempo  TimeSignature  popularity_red  \\\n",
       "0      0.460685  0.543605            0.6          0.3750   \n",
       "1      0.576613  0.358670            1.0          0.3750   \n",
       "2      0.857863  0.636619            0.8          0.4375   \n",
       "3      0.620968  0.549622            0.8          0.3125   \n",
       "4      0.562500  0.423024            0.8          0.3125   \n",
       "...         ...       ...            ...             ...   \n",
       "10042  0.969758  0.573624            0.8          0.1875   \n",
       "10043  0.842742  0.515078            0.8          0.4375   \n",
       "10044  0.919355  0.670481            0.8          0.2500   \n",
       "10045  0.952621  0.756854            0.8          0.5000   \n",
       "10046  0.971774  0.512295            0.8          0.6250   \n",
       "\n",
       "                      TrackID  \n",
       "0      7s8v7hQ80FZyL1N9FHZW5W  \n",
       "1      38Mxx28rpORDuDAGuZe1F4  \n",
       "2      6mGP1LAOLKTUcu1TpAF8vy  \n",
       "3      4G1GhiYTkfgsmMv1xlL6jO  \n",
       "4      10hWSYRQZ4B1IjPafMhiKr  \n",
       "...                       ...  \n",
       "10042  0tNoPlTA4WasOiJNyRbRvh  \n",
       "10043  022XE9RZVU3a9nULENXfnm  \n",
       "10044  073V7jY2AD5JXEnej4JUd1  \n",
       "10045  0VVMYrDOTj2MQSXID2WMTI  \n",
       "10046  3tvyQCSm1QcWURgGvygvke  \n",
       "\n",
       "[10047 rows x 2041 columns]"
      ]
     },
     "execution_count": 14,
     "metadata": {},
     "output_type": "execute_result"
    }
   ],
   "source": [
    "complete_feature_set"
   ]
  },
  {
   "cell_type": "code",
   "execution_count": 25,
   "metadata": {},
   "outputs": [
    {
     "data": {
      "text/html": [
       "<div>\n",
       "<style scoped>\n",
       "    .dataframe tbody tr th:only-of-type {\n",
       "        vertical-align: middle;\n",
       "    }\n",
       "\n",
       "    .dataframe tbody tr th {\n",
       "        vertical-align: top;\n",
       "    }\n",
       "\n",
       "    .dataframe thead th {\n",
       "        text-align: right;\n",
       "    }\n",
       "</style>\n",
       "<table border=\"1\" class=\"dataframe\">\n",
       "  <thead>\n",
       "    <tr style=\"text-align: right;\">\n",
       "      <th></th>\n",
       "      <th>playlist</th>\n",
       "      <th>track</th>\n",
       "      <th>trackid</th>\n",
       "      <th>spotifyid</th>\n",
       "      <th>title</th>\n",
       "      <th>artist</th>\n",
       "      <th>album</th>\n",
       "      <th>imgurl</th>\n",
       "      <th>imgfile</th>\n",
       "      <th>popularity</th>\n",
       "      <th>duration</th>\n",
       "    </tr>\n",
       "  </thead>\n",
       "  <tbody>\n",
       "    <tr>\n",
       "      <th>65215</th>\n",
       "      <td>1065</td>\n",
       "      <td>21856</td>\n",
       "      <td>21856</td>\n",
       "      <td>5sxIzTn9gJlsIWoMNkKyag</td>\n",
       "      <td>2112</td>\n",
       "      <td>3991</td>\n",
       "      <td>15774</td>\n",
       "      <td>NaN</td>\n",
       "      <td>NaN</td>\n",
       "      <td>0.00</td>\n",
       "      <td>1233.586</td>\n",
       "    </tr>\n",
       "    <tr>\n",
       "      <th>65216</th>\n",
       "      <td>1065</td>\n",
       "      <td>48092</td>\n",
       "      <td>48092</td>\n",
       "      <td>20bJTQOaoHqeCHBhqIgcTl</td>\n",
       "      <td>The Ultra-Violence</td>\n",
       "      <td>11126</td>\n",
       "      <td>33038</td>\n",
       "      <td>NaN</td>\n",
       "      <td>NaN</td>\n",
       "      <td>0.42</td>\n",
       "      <td>633.600</td>\n",
       "    </tr>\n",
       "    <tr>\n",
       "      <th>65217</th>\n",
       "      <td>1065</td>\n",
       "      <td>42969</td>\n",
       "      <td>42969</td>\n",
       "      <td>0b47En2lJ0yP6ZKhyOG9Kd</td>\n",
       "      <td>Closer To The Heart</td>\n",
       "      <td>3991</td>\n",
       "      <td>29755</td>\n",
       "      <td>NaN</td>\n",
       "      <td>NaN</td>\n",
       "      <td>0.20</td>\n",
       "      <td>171.866</td>\n",
       "    </tr>\n",
       "    <tr>\n",
       "      <th>65218</th>\n",
       "      <td>1065</td>\n",
       "      <td>48093</td>\n",
       "      <td>48093</td>\n",
       "      <td>0wu0hJZ61dT5uSzL0tuPnQ</td>\n",
       "      <td>Canada</td>\n",
       "      <td>14346</td>\n",
       "      <td>33039</td>\n",
       "      <td>NaN</td>\n",
       "      <td>NaN</td>\n",
       "      <td>0.12</td>\n",
       "      <td>331.808</td>\n",
       "    </tr>\n",
       "    <tr>\n",
       "      <th>65219</th>\n",
       "      <td>1065</td>\n",
       "      <td>48094</td>\n",
       "      <td>48094</td>\n",
       "      <td>0vqSdwyJMafqz53TxsqXOD</td>\n",
       "      <td>Thicker Than Blood</td>\n",
       "      <td>11126</td>\n",
       "      <td>24283</td>\n",
       "      <td>NaN</td>\n",
       "      <td>NaN</td>\n",
       "      <td>0.07</td>\n",
       "      <td>158.333</td>\n",
       "    </tr>\n",
       "    <tr>\n",
       "      <th>65220</th>\n",
       "      <td>1065</td>\n",
       "      <td>42957</td>\n",
       "      <td>42957</td>\n",
       "      <td>0vwEcik5vpKs1tgwzKltBw</td>\n",
       "      <td>La Villa Strangiato</td>\n",
       "      <td>3991</td>\n",
       "      <td>7166</td>\n",
       "      <td>NaN</td>\n",
       "      <td>NaN</td>\n",
       "      <td>0.18</td>\n",
       "      <td>575.066</td>\n",
       "    </tr>\n",
       "    <tr>\n",
       "      <th>65221</th>\n",
       "      <td>1065</td>\n",
       "      <td>12726</td>\n",
       "      <td>12726</td>\n",
       "      <td>20ww15KemlpsXO1KdiOigX</td>\n",
       "      <td>Mordecai</td>\n",
       "      <td>5024</td>\n",
       "      <td>9125</td>\n",
       "      <td>NaN</td>\n",
       "      <td>NaN</td>\n",
       "      <td>0.34</td>\n",
       "      <td>347.760</td>\n",
       "    </tr>\n",
       "    <tr>\n",
       "      <th>65222</th>\n",
       "      <td>1065</td>\n",
       "      <td>48095</td>\n",
       "      <td>48095</td>\n",
       "      <td>0ff6FUCAt7YsWgS7wih7Pp</td>\n",
       "      <td>End Of The Beginning</td>\n",
       "      <td>14347</td>\n",
       "      <td>33040</td>\n",
       "      <td>NaN</td>\n",
       "      <td>NaN</td>\n",
       "      <td>0.34</td>\n",
       "      <td>706.400</td>\n",
       "    </tr>\n",
       "    <tr>\n",
       "      <th>65223</th>\n",
       "      <td>1065</td>\n",
       "      <td>48096</td>\n",
       "      <td>48096</td>\n",
       "      <td>1LGklBuwUCv4pTeD7CIq0b</td>\n",
       "      <td>Hellion</td>\n",
       "      <td>4957</td>\n",
       "      <td>33041</td>\n",
       "      <td>NaN</td>\n",
       "      <td>NaN</td>\n",
       "      <td>0.00</td>\n",
       "      <td>236.893</td>\n",
       "    </tr>\n",
       "    <tr>\n",
       "      <th>65224</th>\n",
       "      <td>1065</td>\n",
       "      <td>20942</td>\n",
       "      <td>20942</td>\n",
       "      <td>1E0ONfqq74b4gYhdlyhMSB</td>\n",
       "      <td>YYZ</td>\n",
       "      <td>3991</td>\n",
       "      <td>15334</td>\n",
       "      <td>NaN</td>\n",
       "      <td>NaN</td>\n",
       "      <td>0.48</td>\n",
       "      <td>266.066</td>\n",
       "    </tr>\n",
       "    <tr>\n",
       "      <th>65225</th>\n",
       "      <td>1065</td>\n",
       "      <td>21063</td>\n",
       "      <td>21063</td>\n",
       "      <td>22CLoijXKZjGb4vy7lh76G</td>\n",
       "      <td>CLIFFS OF DOVER</td>\n",
       "      <td>8165</td>\n",
       "      <td>861</td>\n",
       "      <td>NaN</td>\n",
       "      <td>NaN</td>\n",
       "      <td>0.00</td>\n",
       "      <td>224.866</td>\n",
       "    </tr>\n",
       "    <tr>\n",
       "      <th>65226</th>\n",
       "      <td>1065</td>\n",
       "      <td>48097</td>\n",
       "      <td>48097</td>\n",
       "      <td>1SG5ADhnGAOKAPH8UlhBkb</td>\n",
       "      <td>Burning Angel (live In Paris 2004)</td>\n",
       "      <td>134</td>\n",
       "      <td>33042</td>\n",
       "      <td>NaN</td>\n",
       "      <td>NaN</td>\n",
       "      <td>0.24</td>\n",
       "      <td>286.813</td>\n",
       "    </tr>\n",
       "    <tr>\n",
       "      <th>65227</th>\n",
       "      <td>1065</td>\n",
       "      <td>48098</td>\n",
       "      <td>48098</td>\n",
       "      <td>6GPYxiWge4AR18T4GgvCoO</td>\n",
       "      <td>Land Of Blood</td>\n",
       "      <td>11126</td>\n",
       "      <td>24212</td>\n",
       "      <td>NaN</td>\n",
       "      <td>NaN</td>\n",
       "      <td>0.08</td>\n",
       "      <td>217.000</td>\n",
       "    </tr>\n",
       "    <tr>\n",
       "      <th>65228</th>\n",
       "      <td>1065</td>\n",
       "      <td>48099</td>\n",
       "      <td>48099</td>\n",
       "      <td>0sCqC50LfWmPsHXXcEzrvS</td>\n",
       "      <td>La Villa Strangiato</td>\n",
       "      <td>12080</td>\n",
       "      <td>20671</td>\n",
       "      <td>NaN</td>\n",
       "      <td>NaN</td>\n",
       "      <td>0.21</td>\n",
       "      <td>568.506</td>\n",
       "    </tr>\n",
       "    <tr>\n",
       "      <th>65229</th>\n",
       "      <td>1065</td>\n",
       "      <td>48100</td>\n",
       "      <td>48100</td>\n",
       "      <td>075BR4H4ibEoUcqI36W25u</td>\n",
       "      <td>Angel Claw</td>\n",
       "      <td>134</td>\n",
       "      <td>33043</td>\n",
       "      <td>NaN</td>\n",
       "      <td>NaN</td>\n",
       "      <td>0.00</td>\n",
       "      <td>244.226</td>\n",
       "    </tr>\n",
       "    <tr>\n",
       "      <th>65230</th>\n",
       "      <td>1065</td>\n",
       "      <td>48101</td>\n",
       "      <td>48101</td>\n",
       "      <td>30RKGpKHqr7ytcTljw436k</td>\n",
       "      <td>King Nothing</td>\n",
       "      <td>137</td>\n",
       "      <td>33044</td>\n",
       "      <td>NaN</td>\n",
       "      <td>NaN</td>\n",
       "      <td>0.00</td>\n",
       "      <td>329.760</td>\n",
       "    </tr>\n",
       "    <tr>\n",
       "      <th>65231</th>\n",
       "      <td>1065</td>\n",
       "      <td>48102</td>\n",
       "      <td>48102</td>\n",
       "      <td>0AYB36qR6f7KnZSFGuBmIf</td>\n",
       "      <td>Snowblind</td>\n",
       "      <td>227</td>\n",
       "      <td>33045</td>\n",
       "      <td>NaN</td>\n",
       "      <td>NaN</td>\n",
       "      <td>0.34</td>\n",
       "      <td>280.293</td>\n",
       "    </tr>\n",
       "  </tbody>\n",
       "</table>\n",
       "</div>"
      ],
      "text/plain": [
       "       playlist  track  trackid               spotifyid  \\\n",
       "65215      1065  21856    21856  5sxIzTn9gJlsIWoMNkKyag   \n",
       "65216      1065  48092    48092  20bJTQOaoHqeCHBhqIgcTl   \n",
       "65217      1065  42969    42969  0b47En2lJ0yP6ZKhyOG9Kd   \n",
       "65218      1065  48093    48093  0wu0hJZ61dT5uSzL0tuPnQ   \n",
       "65219      1065  48094    48094  0vqSdwyJMafqz53TxsqXOD   \n",
       "65220      1065  42957    42957  0vwEcik5vpKs1tgwzKltBw   \n",
       "65221      1065  12726    12726  20ww15KemlpsXO1KdiOigX   \n",
       "65222      1065  48095    48095  0ff6FUCAt7YsWgS7wih7Pp   \n",
       "65223      1065  48096    48096  1LGklBuwUCv4pTeD7CIq0b   \n",
       "65224      1065  20942    20942  1E0ONfqq74b4gYhdlyhMSB   \n",
       "65225      1065  21063    21063  22CLoijXKZjGb4vy7lh76G   \n",
       "65226      1065  48097    48097  1SG5ADhnGAOKAPH8UlhBkb   \n",
       "65227      1065  48098    48098  6GPYxiWge4AR18T4GgvCoO   \n",
       "65228      1065  48099    48099  0sCqC50LfWmPsHXXcEzrvS   \n",
       "65229      1065  48100    48100  075BR4H4ibEoUcqI36W25u   \n",
       "65230      1065  48101    48101  30RKGpKHqr7ytcTljw436k   \n",
       "65231      1065  48102    48102  0AYB36qR6f7KnZSFGuBmIf   \n",
       "\n",
       "                                    title  artist  album  imgurl  imgfile  \\\n",
       "65215                                2112    3991  15774     NaN      NaN   \n",
       "65216                  The Ultra-Violence   11126  33038     NaN      NaN   \n",
       "65217                 Closer To The Heart    3991  29755     NaN      NaN   \n",
       "65218                              Canada   14346  33039     NaN      NaN   \n",
       "65219                  Thicker Than Blood   11126  24283     NaN      NaN   \n",
       "65220                 La Villa Strangiato    3991   7166     NaN      NaN   \n",
       "65221                            Mordecai    5024   9125     NaN      NaN   \n",
       "65222                End Of The Beginning   14347  33040     NaN      NaN   \n",
       "65223                             Hellion    4957  33041     NaN      NaN   \n",
       "65224                                 YYZ    3991  15334     NaN      NaN   \n",
       "65225                     CLIFFS OF DOVER    8165    861     NaN      NaN   \n",
       "65226  Burning Angel (live In Paris 2004)     134  33042     NaN      NaN   \n",
       "65227                       Land Of Blood   11126  24212     NaN      NaN   \n",
       "65228                 La Villa Strangiato   12080  20671     NaN      NaN   \n",
       "65229                          Angel Claw     134  33043     NaN      NaN   \n",
       "65230                        King Nothing     137  33044     NaN      NaN   \n",
       "65231                           Snowblind     227  33045     NaN      NaN   \n",
       "\n",
       "       popularity  duration  \n",
       "65215        0.00  1233.586  \n",
       "65216        0.42   633.600  \n",
       "65217        0.20   171.866  \n",
       "65218        0.12   331.808  \n",
       "65219        0.07   158.333  \n",
       "65220        0.18   575.066  \n",
       "65221        0.34   347.760  \n",
       "65222        0.34   706.400  \n",
       "65223        0.00   236.893  \n",
       "65224        0.48   266.066  \n",
       "65225        0.00   224.866  \n",
       "65226        0.24   286.813  \n",
       "65227        0.08   217.000  \n",
       "65228        0.21   568.506  \n",
       "65229        0.00   244.226  \n",
       "65230        0.00   329.760  \n",
       "65231        0.34   280.293  "
      ]
     },
     "execution_count": 25,
     "metadata": {},
     "output_type": "execute_result"
    }
   ],
   "source": [
    "#filter to only playlist \n",
    "playlist_1065 = playlist_songs_with_ids[playlist_songs_with_ids['playlist']==1065]\n",
    "playlist_1065"
   ]
  },
  {
   "cell_type": "code",
   "execution_count": 26,
   "metadata": {},
   "outputs": [],
   "source": [
    "def generate_playlist_feature(complete_feature_set, playlist_df):\n",
    "    complete_feature_set_playlist = complete_feature_set[complete_feature_set['TrackID'].isin(playlist_df['spotifyid'].values)]\n",
    "    complete_feature_set_playlist = complete_feature_set_playlist.merge(playlist_df[['spotifyid']], how = 'inner', left_on = 'TrackID', right_on='spotifyid')\n",
    "    complete_feature_set_nonplaylist = complete_feature_set[~complete_feature_set['TrackID'].isin(playlist_df['spotifyid'].values)]\n",
    "    complete_feature_set_playlist.drop(columns=['TrackID','spotifyid'],inplace=True)\n",
    "\n",
    "    return complete_feature_set_playlist.sum(axis = 0), complete_feature_set_nonplaylist"
   ]
  },
  {
   "cell_type": "code",
   "execution_count": 27,
   "metadata": {},
   "outputs": [],
   "source": [
    "complete_feature_set_playlist_vector, complete_feature_set_nonplaylist = generate_playlist_feature(complete_feature_set, playlist_1065)"
   ]
  },
  {
   "cell_type": "code",
   "execution_count": 18,
   "metadata": {},
   "outputs": [
    {
     "data": {
      "text/plain": [
       "(10045, 2041)"
      ]
     },
     "execution_count": 18,
     "metadata": {},
     "output_type": "execute_result"
    }
   ],
   "source": [
    "complete_feature_set_nonplaylist.shape"
   ]
  },
  {
   "cell_type": "markdown",
   "metadata": {},
   "source": [
    "# Generate Playlist Recommendations"
   ]
  },
  {
   "cell_type": "code",
   "execution_count": 19,
   "metadata": {},
   "outputs": [],
   "source": [
    "def generate_playlist_recos(df, features, nonplaylist_features):\n",
    "\n",
    "    non_playlist_df = df[df['TrackID'].isin(nonplaylist_features['TrackID'].values)]\n",
    "    non_playlist_df['sim'] = cosine_similarity(nonplaylist_features.drop('TrackID', axis = 1).values, features.values.reshape(1, -1))[:,0]\n",
    "    non_playlist_df_top_40 = non_playlist_df.sort_values('sim',ascending = False).head(10)\n",
    "    return non_playlist_df_top_40\n"
   ]
  },
  {
   "cell_type": "code",
   "execution_count": 29,
   "metadata": {},
   "outputs": [
    {
     "name": "stderr",
     "output_type": "stream",
     "text": [
      "C:\\Users\\edsta\\AppData\\Local\\Temp\\ipykernel_17012\\3211393621.py:4: SettingWithCopyWarning:\n",
      "\n",
      "\n",
      "A value is trying to be set on a copy of a slice from a DataFrame.\n",
      "Try using .loc[row_indexer,col_indexer] = value instead\n",
      "\n",
      "See the caveats in the documentation: https://pandas.pydata.org/pandas-docs/stable/user_guide/indexing.html#returning-a-view-versus-a-copy\n",
      "\n"
     ]
    }
   ],
   "source": [
    "top_40_user_1065 = generate_playlist_recos(songs_filtered, complete_feature_set_playlist_vector, complete_feature_set_nonplaylist)\n"
   ]
  },
  {
   "cell_type": "markdown",
   "metadata": {},
   "source": [
    "# Here are the recommendations"
   ]
  },
  {
   "cell_type": "code",
   "execution_count": 30,
   "metadata": {},
   "outputs": [
    {
     "data": {
      "text/html": [
       "<div>\n",
       "<style scoped>\n",
       "    .dataframe tbody tr th:only-of-type {\n",
       "        vertical-align: middle;\n",
       "    }\n",
       "\n",
       "    .dataframe tbody tr th {\n",
       "        vertical-align: top;\n",
       "    }\n",
       "\n",
       "    .dataframe thead th {\n",
       "        text-align: right;\n",
       "    }\n",
       "</style>\n",
       "<table border=\"1\" class=\"dataframe\">\n",
       "  <thead>\n",
       "    <tr style=\"text-align: right;\">\n",
       "      <th></th>\n",
       "      <th>TrackID</th>\n",
       "      <th>TrackName</th>\n",
       "      <th>Popularity</th>\n",
       "      <th>Duration</th>\n",
       "      <th>Explicit</th>\n",
       "      <th>Artists</th>\n",
       "      <th>ArtistsID</th>\n",
       "      <th>ReleaseYear</th>\n",
       "      <th>Danceability</th>\n",
       "      <th>Energy</th>\n",
       "      <th>...</th>\n",
       "      <th>Tempo</th>\n",
       "      <th>TimeSignature</th>\n",
       "      <th>artists_upd_v1</th>\n",
       "      <th>artists_upd_v2</th>\n",
       "      <th>artists_upd</th>\n",
       "      <th>artists_song</th>\n",
       "      <th>consolidates_genre_lists</th>\n",
       "      <th>popularity_red</th>\n",
       "      <th>len</th>\n",
       "      <th>sim</th>\n",
       "    </tr>\n",
       "  </thead>\n",
       "  <tbody>\n",
       "    <tr>\n",
       "      <th>4086</th>\n",
       "      <td>2R6UrJ8uWbSIiHWmvRQvN8</td>\n",
       "      <td>Whiskey In The Jar</td>\n",
       "      <td>73</td>\n",
       "      <td>304693</td>\n",
       "      <td>0</td>\n",
       "      <td>['Metallica']</td>\n",
       "      <td>['2ye2Wgw4gimLv2eAKyk1NB']</td>\n",
       "      <td>1998</td>\n",
       "      <td>0.511</td>\n",
       "      <td>0.970</td>\n",
       "      <td>...</td>\n",
       "      <td>132.986</td>\n",
       "      <td>4</td>\n",
       "      <td>[Metallica]</td>\n",
       "      <td>[]</td>\n",
       "      <td>[Metallica]</td>\n",
       "      <td>Metallica+Whiskey In The Jar</td>\n",
       "      <td>[old_school_thrash, metal, rock, hard_rock, th...</td>\n",
       "      <td>14</td>\n",
       "      <td>1</td>\n",
       "      <td>0.955792</td>\n",
       "    </tr>\n",
       "    <tr>\n",
       "      <th>4098</th>\n",
       "      <td>0zZPCkSMAECtxBQHWJ0enW</td>\n",
       "      <td>Blitzkrieg</td>\n",
       "      <td>41</td>\n",
       "      <td>216960</td>\n",
       "      <td>0</td>\n",
       "      <td>['Metallica']</td>\n",
       "      <td>['2ye2Wgw4gimLv2eAKyk1NB']</td>\n",
       "      <td>1998</td>\n",
       "      <td>0.493</td>\n",
       "      <td>0.970</td>\n",
       "      <td>...</td>\n",
       "      <td>98.736</td>\n",
       "      <td>4</td>\n",
       "      <td>[Metallica]</td>\n",
       "      <td>[]</td>\n",
       "      <td>[Metallica]</td>\n",
       "      <td>Metallica+Blitzkrieg</td>\n",
       "      <td>[old_school_thrash, metal, rock, hard_rock, th...</td>\n",
       "      <td>8</td>\n",
       "      <td>1</td>\n",
       "      <td>0.953566</td>\n",
       "    </tr>\n",
       "    <tr>\n",
       "      <th>4090</th>\n",
       "      <td>1R29PfqelwVMRPhg5fn0lD</td>\n",
       "      <td>Slither</td>\n",
       "      <td>42</td>\n",
       "      <td>313200</td>\n",
       "      <td>0</td>\n",
       "      <td>['Metallica']</td>\n",
       "      <td>['2ye2Wgw4gimLv2eAKyk1NB']</td>\n",
       "      <td>1997</td>\n",
       "      <td>0.509</td>\n",
       "      <td>0.851</td>\n",
       "      <td>...</td>\n",
       "      <td>110.364</td>\n",
       "      <td>4</td>\n",
       "      <td>[Metallica]</td>\n",
       "      <td>[]</td>\n",
       "      <td>[Metallica]</td>\n",
       "      <td>Metallica+Slither</td>\n",
       "      <td>[old_school_thrash, metal, rock, hard_rock, th...</td>\n",
       "      <td>8</td>\n",
       "      <td>1</td>\n",
       "      <td>0.952824</td>\n",
       "    </tr>\n",
       "    <tr>\n",
       "      <th>4096</th>\n",
       "      <td>0rDPQzWWmLTv9deHn4ulG7</td>\n",
       "      <td>Hero Of The Day</td>\n",
       "      <td>54</td>\n",
       "      <td>261907</td>\n",
       "      <td>0</td>\n",
       "      <td>['Metallica']</td>\n",
       "      <td>['2ye2Wgw4gimLv2eAKyk1NB']</td>\n",
       "      <td>1996</td>\n",
       "      <td>0.350</td>\n",
       "      <td>0.902</td>\n",
       "      <td>...</td>\n",
       "      <td>115.909</td>\n",
       "      <td>4</td>\n",
       "      <td>[Metallica]</td>\n",
       "      <td>[]</td>\n",
       "      <td>[Metallica]</td>\n",
       "      <td>Metallica+Hero Of The Day</td>\n",
       "      <td>[old_school_thrash, metal, rock, hard_rock, th...</td>\n",
       "      <td>10</td>\n",
       "      <td>1</td>\n",
       "      <td>0.948256</td>\n",
       "    </tr>\n",
       "    <tr>\n",
       "      <th>4094</th>\n",
       "      <td>0R9GrbRcpBRdwDlVPj2wEQ</td>\n",
       "      <td>My Friend Of Misery</td>\n",
       "      <td>55</td>\n",
       "      <td>407773</td>\n",
       "      <td>0</td>\n",
       "      <td>['Metallica']</td>\n",
       "      <td>['2ye2Wgw4gimLv2eAKyk1NB']</td>\n",
       "      <td>1991</td>\n",
       "      <td>0.582</td>\n",
       "      <td>0.819</td>\n",
       "      <td>...</td>\n",
       "      <td>119.513</td>\n",
       "      <td>4</td>\n",
       "      <td>[Metallica]</td>\n",
       "      <td>[]</td>\n",
       "      <td>[Metallica]</td>\n",
       "      <td>Metallica+My Friend Of Misery</td>\n",
       "      <td>[old_school_thrash, metal, rock, hard_rock, th...</td>\n",
       "      <td>11</td>\n",
       "      <td>1</td>\n",
       "      <td>0.947081</td>\n",
       "    </tr>\n",
       "    <tr>\n",
       "      <th>4100</th>\n",
       "      <td>1Bpa3yoBAqpcc8mRC9jacn</td>\n",
       "      <td>Astronomy</td>\n",
       "      <td>47</td>\n",
       "      <td>397840</td>\n",
       "      <td>0</td>\n",
       "      <td>['Metallica']</td>\n",
       "      <td>['2ye2Wgw4gimLv2eAKyk1NB']</td>\n",
       "      <td>1998</td>\n",
       "      <td>0.345</td>\n",
       "      <td>0.778</td>\n",
       "      <td>...</td>\n",
       "      <td>86.221</td>\n",
       "      <td>4</td>\n",
       "      <td>[Metallica]</td>\n",
       "      <td>[]</td>\n",
       "      <td>[Metallica]</td>\n",
       "      <td>Metallica+Astronomy</td>\n",
       "      <td>[old_school_thrash, metal, rock, hard_rock, th...</td>\n",
       "      <td>9</td>\n",
       "      <td>1</td>\n",
       "      <td>0.946627</td>\n",
       "    </tr>\n",
       "    <tr>\n",
       "      <th>4099</th>\n",
       "      <td>0cKWKhciVCYNyxFVnV1Y4R</td>\n",
       "      <td>Bad Seed</td>\n",
       "      <td>42</td>\n",
       "      <td>245333</td>\n",
       "      <td>0</td>\n",
       "      <td>['Metallica']</td>\n",
       "      <td>['2ye2Wgw4gimLv2eAKyk1NB']</td>\n",
       "      <td>1997</td>\n",
       "      <td>0.532</td>\n",
       "      <td>0.952</td>\n",
       "      <td>...</td>\n",
       "      <td>126.917</td>\n",
       "      <td>4</td>\n",
       "      <td>[Metallica]</td>\n",
       "      <td>[]</td>\n",
       "      <td>[Metallica]</td>\n",
       "      <td>Metallica+Bad Seed</td>\n",
       "      <td>[old_school_thrash, metal, rock, hard_rock, th...</td>\n",
       "      <td>8</td>\n",
       "      <td>1</td>\n",
       "      <td>0.945376</td>\n",
       "    </tr>\n",
       "    <tr>\n",
       "      <th>7919</th>\n",
       "      <td>7ag4qTNensFZLQP4raCIs6</td>\n",
       "      <td>Voracious Souls</td>\n",
       "      <td>32</td>\n",
       "      <td>339000</td>\n",
       "      <td>0</td>\n",
       "      <td>['Death Angel']</td>\n",
       "      <td>['6KVc8Llznru8n9LVCYe9dz']</td>\n",
       "      <td>1987</td>\n",
       "      <td>0.192</td>\n",
       "      <td>0.988</td>\n",
       "      <td>...</td>\n",
       "      <td>162.068</td>\n",
       "      <td>4</td>\n",
       "      <td>[Death Angel]</td>\n",
       "      <td>[]</td>\n",
       "      <td>[Death Angel]</td>\n",
       "      <td>Death Angel+Voracious Souls</td>\n",
       "      <td>[old_school_thrash, metal, hard_rock, thrash_m...</td>\n",
       "      <td>6</td>\n",
       "      <td>1</td>\n",
       "      <td>0.943264</td>\n",
       "    </tr>\n",
       "    <tr>\n",
       "      <th>4088</th>\n",
       "      <td>1bEAFB39TyDfY3KtDtK7aI</td>\n",
       "      <td>The More I See</td>\n",
       "      <td>40</td>\n",
       "      <td>288667</td>\n",
       "      <td>0</td>\n",
       "      <td>['Metallica']</td>\n",
       "      <td>['2ye2Wgw4gimLv2eAKyk1NB']</td>\n",
       "      <td>1998</td>\n",
       "      <td>0.304</td>\n",
       "      <td>0.957</td>\n",
       "      <td>...</td>\n",
       "      <td>94.840</td>\n",
       "      <td>4</td>\n",
       "      <td>[Metallica]</td>\n",
       "      <td>[]</td>\n",
       "      <td>[Metallica]</td>\n",
       "      <td>Metallica+The More I See</td>\n",
       "      <td>[old_school_thrash, metal, rock, hard_rock, th...</td>\n",
       "      <td>8</td>\n",
       "      <td>1</td>\n",
       "      <td>0.934355</td>\n",
       "    </tr>\n",
       "    <tr>\n",
       "      <th>2064</th>\n",
       "      <td>0Auq7v8eMbFXMi6ZaMCb09</td>\n",
       "      <td>Kill Again</td>\n",
       "      <td>42</td>\n",
       "      <td>296040</td>\n",
       "      <td>0</td>\n",
       "      <td>['Slayer']</td>\n",
       "      <td>['1IQ2e1buppatiN1bxUVkrk']</td>\n",
       "      <td>1985</td>\n",
       "      <td>0.301</td>\n",
       "      <td>0.930</td>\n",
       "      <td>...</td>\n",
       "      <td>99.363</td>\n",
       "      <td>4</td>\n",
       "      <td>[Slayer]</td>\n",
       "      <td>[]</td>\n",
       "      <td>[Slayer]</td>\n",
       "      <td>Slayer+Kill Again</td>\n",
       "      <td>[speed_metal, old_school_thrash, metal, hard_r...</td>\n",
       "      <td>8</td>\n",
       "      <td>1</td>\n",
       "      <td>0.926429</td>\n",
       "    </tr>\n",
       "  </tbody>\n",
       "</table>\n",
       "<p>10 rows × 28 columns</p>\n",
       "</div>"
      ],
      "text/plain": [
       "                     TrackID            TrackName  Popularity  Duration  \\\n",
       "4086  2R6UrJ8uWbSIiHWmvRQvN8   Whiskey In The Jar          73    304693   \n",
       "4098  0zZPCkSMAECtxBQHWJ0enW           Blitzkrieg          41    216960   \n",
       "4090  1R29PfqelwVMRPhg5fn0lD              Slither          42    313200   \n",
       "4096  0rDPQzWWmLTv9deHn4ulG7      Hero Of The Day          54    261907   \n",
       "4094  0R9GrbRcpBRdwDlVPj2wEQ  My Friend Of Misery          55    407773   \n",
       "4100  1Bpa3yoBAqpcc8mRC9jacn            Astronomy          47    397840   \n",
       "4099  0cKWKhciVCYNyxFVnV1Y4R             Bad Seed          42    245333   \n",
       "7919  7ag4qTNensFZLQP4raCIs6      Voracious Souls          32    339000   \n",
       "4088  1bEAFB39TyDfY3KtDtK7aI       The More I See          40    288667   \n",
       "2064  0Auq7v8eMbFXMi6ZaMCb09           Kill Again          42    296040   \n",
       "\n",
       "      Explicit          Artists                   ArtistsID  ReleaseYear  \\\n",
       "4086         0    ['Metallica']  ['2ye2Wgw4gimLv2eAKyk1NB']         1998   \n",
       "4098         0    ['Metallica']  ['2ye2Wgw4gimLv2eAKyk1NB']         1998   \n",
       "4090         0    ['Metallica']  ['2ye2Wgw4gimLv2eAKyk1NB']         1997   \n",
       "4096         0    ['Metallica']  ['2ye2Wgw4gimLv2eAKyk1NB']         1996   \n",
       "4094         0    ['Metallica']  ['2ye2Wgw4gimLv2eAKyk1NB']         1991   \n",
       "4100         0    ['Metallica']  ['2ye2Wgw4gimLv2eAKyk1NB']         1998   \n",
       "4099         0    ['Metallica']  ['2ye2Wgw4gimLv2eAKyk1NB']         1997   \n",
       "7919         0  ['Death Angel']  ['6KVc8Llznru8n9LVCYe9dz']         1987   \n",
       "4088         0    ['Metallica']  ['2ye2Wgw4gimLv2eAKyk1NB']         1998   \n",
       "2064         0       ['Slayer']  ['1IQ2e1buppatiN1bxUVkrk']         1985   \n",
       "\n",
       "      Danceability  Energy  ...    Tempo  TimeSignature  artists_upd_v1  \\\n",
       "4086         0.511   0.970  ...  132.986              4     [Metallica]   \n",
       "4098         0.493   0.970  ...   98.736              4     [Metallica]   \n",
       "4090         0.509   0.851  ...  110.364              4     [Metallica]   \n",
       "4096         0.350   0.902  ...  115.909              4     [Metallica]   \n",
       "4094         0.582   0.819  ...  119.513              4     [Metallica]   \n",
       "4100         0.345   0.778  ...   86.221              4     [Metallica]   \n",
       "4099         0.532   0.952  ...  126.917              4     [Metallica]   \n",
       "7919         0.192   0.988  ...  162.068              4   [Death Angel]   \n",
       "4088         0.304   0.957  ...   94.840              4     [Metallica]   \n",
       "2064         0.301   0.930  ...   99.363              4        [Slayer]   \n",
       "\n",
       "      artists_upd_v2    artists_upd                   artists_song  \\\n",
       "4086              []    [Metallica]   Metallica+Whiskey In The Jar   \n",
       "4098              []    [Metallica]           Metallica+Blitzkrieg   \n",
       "4090              []    [Metallica]              Metallica+Slither   \n",
       "4096              []    [Metallica]      Metallica+Hero Of The Day   \n",
       "4094              []    [Metallica]  Metallica+My Friend Of Misery   \n",
       "4100              []    [Metallica]            Metallica+Astronomy   \n",
       "4099              []    [Metallica]             Metallica+Bad Seed   \n",
       "7919              []  [Death Angel]    Death Angel+Voracious Souls   \n",
       "4088              []    [Metallica]       Metallica+The More I See   \n",
       "2064              []       [Slayer]              Slayer+Kill Again   \n",
       "\n",
       "                               consolidates_genre_lists  popularity_red  len  \\\n",
       "4086  [old_school_thrash, metal, rock, hard_rock, th...              14    1   \n",
       "4098  [old_school_thrash, metal, rock, hard_rock, th...               8    1   \n",
       "4090  [old_school_thrash, metal, rock, hard_rock, th...               8    1   \n",
       "4096  [old_school_thrash, metal, rock, hard_rock, th...              10    1   \n",
       "4094  [old_school_thrash, metal, rock, hard_rock, th...              11    1   \n",
       "4100  [old_school_thrash, metal, rock, hard_rock, th...               9    1   \n",
       "4099  [old_school_thrash, metal, rock, hard_rock, th...               8    1   \n",
       "7919  [old_school_thrash, metal, hard_rock, thrash_m...               6    1   \n",
       "4088  [old_school_thrash, metal, rock, hard_rock, th...               8    1   \n",
       "2064  [speed_metal, old_school_thrash, metal, hard_r...               8    1   \n",
       "\n",
       "           sim  \n",
       "4086  0.955792  \n",
       "4098  0.953566  \n",
       "4090  0.952824  \n",
       "4096  0.948256  \n",
       "4094  0.947081  \n",
       "4100  0.946627  \n",
       "4099  0.945376  \n",
       "7919  0.943264  \n",
       "4088  0.934355  \n",
       "2064  0.926429  \n",
       "\n",
       "[10 rows x 28 columns]"
      ]
     },
     "execution_count": 30,
     "metadata": {},
     "output_type": "execute_result"
    }
   ],
   "source": [
    "top_40_user_1065"
   ]
  },
  {
   "cell_type": "code",
   "execution_count": null,
   "metadata": {},
   "outputs": [],
   "source": []
  },
  {
   "cell_type": "markdown",
   "metadata": {},
   "source": [
    "# Make recommendations for playlist 100"
   ]
  },
  {
   "cell_type": "code",
   "execution_count": 46,
   "metadata": {},
   "outputs": [
    {
     "name": "stderr",
     "output_type": "stream",
     "text": [
      "C:\\Users\\edsta\\AppData\\Local\\Temp\\ipykernel_17012\\3211393621.py:4: SettingWithCopyWarning:\n",
      "\n",
      "\n",
      "A value is trying to be set on a copy of a slice from a DataFrame.\n",
      "Try using .loc[row_indexer,col_indexer] = value instead\n",
      "\n",
      "See the caveats in the documentation: https://pandas.pydata.org/pandas-docs/stable/user_guide/indexing.html#returning-a-view-versus-a-copy\n",
      "\n"
     ]
    }
   ],
   "source": [
    "playlist_100 = playlist_songs_with_ids[playlist_songs_with_ids['playlist']==100]\n",
    "complete_feature_set_playlist_vector, complete_feature_set_nonplaylist = generate_playlist_feature(complete_feature_set, playlist_100)\n",
    "top_10_user_100 = generate_playlist_recos(songs_filtered, complete_feature_set_playlist_vector, complete_feature_set_nonplaylist)"
   ]
  },
  {
   "cell_type": "code",
   "execution_count": 47,
   "metadata": {},
   "outputs": [
    {
     "data": {
      "text/html": [
       "<div>\n",
       "<style scoped>\n",
       "    .dataframe tbody tr th:only-of-type {\n",
       "        vertical-align: middle;\n",
       "    }\n",
       "\n",
       "    .dataframe tbody tr th {\n",
       "        vertical-align: top;\n",
       "    }\n",
       "\n",
       "    .dataframe thead th {\n",
       "        text-align: right;\n",
       "    }\n",
       "</style>\n",
       "<table border=\"1\" class=\"dataframe\">\n",
       "  <thead>\n",
       "    <tr style=\"text-align: right;\">\n",
       "      <th></th>\n",
       "      <th>TrackID</th>\n",
       "      <th>TrackName</th>\n",
       "      <th>Popularity</th>\n",
       "      <th>Duration</th>\n",
       "      <th>Explicit</th>\n",
       "      <th>Artists</th>\n",
       "      <th>ArtistsID</th>\n",
       "      <th>ReleaseYear</th>\n",
       "      <th>Danceability</th>\n",
       "      <th>Energy</th>\n",
       "      <th>...</th>\n",
       "      <th>Tempo</th>\n",
       "      <th>TimeSignature</th>\n",
       "      <th>artists_upd_v1</th>\n",
       "      <th>artists_upd_v2</th>\n",
       "      <th>artists_upd</th>\n",
       "      <th>artists_song</th>\n",
       "      <th>consolidates_genre_lists</th>\n",
       "      <th>popularity_red</th>\n",
       "      <th>len</th>\n",
       "      <th>sim</th>\n",
       "    </tr>\n",
       "  </thead>\n",
       "  <tbody>\n",
       "    <tr>\n",
       "      <th>1614</th>\n",
       "      <td>1siUcrRMKOqnrJyknaYrz3</td>\n",
       "      <td>Valder Fields</td>\n",
       "      <td>34</td>\n",
       "      <td>158693</td>\n",
       "      <td>0</td>\n",
       "      <td>['Tamas Wells']</td>\n",
       "      <td>['01osYMBrXUdvSJJlzFgrVi']</td>\n",
       "      <td>2006</td>\n",
       "      <td>0.574</td>\n",
       "      <td>0.385</td>\n",
       "      <td>...</td>\n",
       "      <td>116.986</td>\n",
       "      <td>4</td>\n",
       "      <td>[Tamas Wells]</td>\n",
       "      <td>[]</td>\n",
       "      <td>[Tamas Wells]</td>\n",
       "      <td>Tamas Wells+Valder Fields</td>\n",
       "      <td>[]</td>\n",
       "      <td>6</td>\n",
       "      <td>1</td>\n",
       "      <td>0.953569</td>\n",
       "    </tr>\n",
       "    <tr>\n",
       "      <th>8687</th>\n",
       "      <td>3zpbWaTHZutGOjT4S4CuUq</td>\n",
       "      <td>The Duck Song</td>\n",
       "      <td>51</td>\n",
       "      <td>191733</td>\n",
       "      <td>0</td>\n",
       "      <td>['Bryant Oden']</td>\n",
       "      <td>['0vuuI2BxGByuCvnBHC00vX']</td>\n",
       "      <td>2009</td>\n",
       "      <td>0.453</td>\n",
       "      <td>0.449</td>\n",
       "      <td>...</td>\n",
       "      <td>184.814</td>\n",
       "      <td>4</td>\n",
       "      <td>[Bryant Oden]</td>\n",
       "      <td>[]</td>\n",
       "      <td>[Bryant Oden]</td>\n",
       "      <td>Bryant Oden+The Duck Song</td>\n",
       "      <td>[]</td>\n",
       "      <td>10</td>\n",
       "      <td>1</td>\n",
       "      <td>0.950147</td>\n",
       "    </tr>\n",
       "    <tr>\n",
       "      <th>5644</th>\n",
       "      <td>2FXORuBJ8gBDTOVjckYXdF</td>\n",
       "      <td>Remember Me This Way</td>\n",
       "      <td>48</td>\n",
       "      <td>266907</td>\n",
       "      <td>0</td>\n",
       "      <td>['Jordan Hill']</td>\n",
       "      <td>['0OOhKEKPDRy8UrlykRWG2i']</td>\n",
       "      <td>1996</td>\n",
       "      <td>0.471</td>\n",
       "      <td>0.405</td>\n",
       "      <td>...</td>\n",
       "      <td>121.492</td>\n",
       "      <td>4</td>\n",
       "      <td>[Jordan Hill]</td>\n",
       "      <td>[]</td>\n",
       "      <td>[Jordan Hill]</td>\n",
       "      <td>Jordan Hill+Remember Me This Way</td>\n",
       "      <td>[]</td>\n",
       "      <td>9</td>\n",
       "      <td>1</td>\n",
       "      <td>0.948939</td>\n",
       "    </tr>\n",
       "    <tr>\n",
       "      <th>4875</th>\n",
       "      <td>3Y81Q8dLI74Mgi1wbXvscv</td>\n",
       "      <td>Why Me?</td>\n",
       "      <td>32</td>\n",
       "      <td>204160</td>\n",
       "      <td>0</td>\n",
       "      <td>['Linda Martin']</td>\n",
       "      <td>['1GyPJziXpMB4WOyCPpIDA4']</td>\n",
       "      <td>1992</td>\n",
       "      <td>0.430</td>\n",
       "      <td>0.403</td>\n",
       "      <td>...</td>\n",
       "      <td>152.120</td>\n",
       "      <td>4</td>\n",
       "      <td>[Linda Martin]</td>\n",
       "      <td>[]</td>\n",
       "      <td>[Linda Martin]</td>\n",
       "      <td>Linda Martin+Why Me?</td>\n",
       "      <td>[]</td>\n",
       "      <td>6</td>\n",
       "      <td>1</td>\n",
       "      <td>0.945722</td>\n",
       "    </tr>\n",
       "    <tr>\n",
       "      <th>6682</th>\n",
       "      <td>1BtwFUWCjt7hfUjN9X5eGX</td>\n",
       "      <td>Nothing'S Gonna Change My Love For You</td>\n",
       "      <td>36</td>\n",
       "      <td>224173</td>\n",
       "      <td>0</td>\n",
       "      <td>['Glenn Medeiros']</td>\n",
       "      <td>['0bByarMN8ryEFQsRo6iCUN']</td>\n",
       "      <td>2013</td>\n",
       "      <td>0.419</td>\n",
       "      <td>0.585</td>\n",
       "      <td>...</td>\n",
       "      <td>142.047</td>\n",
       "      <td>4</td>\n",
       "      <td>[Glenn Medeiros]</td>\n",
       "      <td>[]</td>\n",
       "      <td>[Glenn Medeiros]</td>\n",
       "      <td>Glenn Medeiros+Nothing'S Gonna Change My Love ...</td>\n",
       "      <td>[]</td>\n",
       "      <td>7</td>\n",
       "      <td>1</td>\n",
       "      <td>0.944464</td>\n",
       "    </tr>\n",
       "    <tr>\n",
       "      <th>2501</th>\n",
       "      <td>1FQ0ecMZMI3ArhcJQPROFP</td>\n",
       "      <td>First Time</td>\n",
       "      <td>52</td>\n",
       "      <td>196493</td>\n",
       "      <td>0</td>\n",
       "      <td>['Robin Beck']</td>\n",
       "      <td>['0tUERnHmr1tKp2pSwPLN8b']</td>\n",
       "      <td>2007</td>\n",
       "      <td>0.581</td>\n",
       "      <td>0.547</td>\n",
       "      <td>...</td>\n",
       "      <td>97.998</td>\n",
       "      <td>4</td>\n",
       "      <td>[Robin Beck]</td>\n",
       "      <td>[]</td>\n",
       "      <td>[Robin Beck]</td>\n",
       "      <td>Robin Beck+First Time</td>\n",
       "      <td>[]</td>\n",
       "      <td>10</td>\n",
       "      <td>1</td>\n",
       "      <td>0.943485</td>\n",
       "    </tr>\n",
       "    <tr>\n",
       "      <th>9112</th>\n",
       "      <td>0y98eQsCyQ0hyYUsy3GLX7</td>\n",
       "      <td>Lucky</td>\n",
       "      <td>36</td>\n",
       "      <td>251573</td>\n",
       "      <td>0</td>\n",
       "      <td>['Bernie Paul']</td>\n",
       "      <td>['0uI97WlhXD44vyB16hy3PK']</td>\n",
       "      <td>1996</td>\n",
       "      <td>0.629</td>\n",
       "      <td>0.742</td>\n",
       "      <td>...</td>\n",
       "      <td>111.216</td>\n",
       "      <td>4</td>\n",
       "      <td>[Bernie Paul]</td>\n",
       "      <td>[]</td>\n",
       "      <td>[Bernie Paul]</td>\n",
       "      <td>Bernie Paul+Lucky</td>\n",
       "      <td>[]</td>\n",
       "      <td>7</td>\n",
       "      <td>1</td>\n",
       "      <td>0.942897</td>\n",
       "    </tr>\n",
       "    <tr>\n",
       "      <th>5304</th>\n",
       "      <td>3JQQnhFsJCYAouBbuxVCvJ</td>\n",
       "      <td>Cayman Islands</td>\n",
       "      <td>51</td>\n",
       "      <td>182960</td>\n",
       "      <td>0</td>\n",
       "      <td>['Kings of Convenience']</td>\n",
       "      <td>['41AbNVba2ccpmcc9QtOJE7']</td>\n",
       "      <td>2004</td>\n",
       "      <td>0.413</td>\n",
       "      <td>0.343</td>\n",
       "      <td>...</td>\n",
       "      <td>174.583</td>\n",
       "      <td>4</td>\n",
       "      <td>[Kings of Convenience]</td>\n",
       "      <td>[]</td>\n",
       "      <td>[Kings of Convenience]</td>\n",
       "      <td>Kings of Convenience+Cayman Islands</td>\n",
       "      <td>[melancholia, norwegian_indie, bergen_indie]</td>\n",
       "      <td>10</td>\n",
       "      <td>1</td>\n",
       "      <td>0.942441</td>\n",
       "    </tr>\n",
       "    <tr>\n",
       "      <th>9111</th>\n",
       "      <td>0OjenJcQMRdXI10bQmWYpM</td>\n",
       "      <td>Oh No No</td>\n",
       "      <td>40</td>\n",
       "      <td>244693</td>\n",
       "      <td>0</td>\n",
       "      <td>['Bernie Paul']</td>\n",
       "      <td>['0uI97WlhXD44vyB16hy3PK']</td>\n",
       "      <td>1996</td>\n",
       "      <td>0.706</td>\n",
       "      <td>0.579</td>\n",
       "      <td>...</td>\n",
       "      <td>115.820</td>\n",
       "      <td>4</td>\n",
       "      <td>[Bernie Paul]</td>\n",
       "      <td>[]</td>\n",
       "      <td>[Bernie Paul]</td>\n",
       "      <td>Bernie Paul+Oh No No</td>\n",
       "      <td>[]</td>\n",
       "      <td>8</td>\n",
       "      <td>1</td>\n",
       "      <td>0.941703</td>\n",
       "    </tr>\n",
       "    <tr>\n",
       "      <th>5296</th>\n",
       "      <td>654YXpi3jNYFjNoqhuYGxw</td>\n",
       "      <td>Winning A Battle, Losing The War</td>\n",
       "      <td>45</td>\n",
       "      <td>234627</td>\n",
       "      <td>0</td>\n",
       "      <td>['Kings of Convenience']</td>\n",
       "      <td>['41AbNVba2ccpmcc9QtOJE7']</td>\n",
       "      <td>2001</td>\n",
       "      <td>0.587</td>\n",
       "      <td>0.316</td>\n",
       "      <td>...</td>\n",
       "      <td>142.448</td>\n",
       "      <td>4</td>\n",
       "      <td>[Kings of Convenience]</td>\n",
       "      <td>[]</td>\n",
       "      <td>[Kings of Convenience]</td>\n",
       "      <td>Kings of Convenience+Winning A Battle, Losing ...</td>\n",
       "      <td>[melancholia, norwegian_indie, bergen_indie]</td>\n",
       "      <td>9</td>\n",
       "      <td>1</td>\n",
       "      <td>0.936633</td>\n",
       "    </tr>\n",
       "  </tbody>\n",
       "</table>\n",
       "<p>10 rows × 28 columns</p>\n",
       "</div>"
      ],
      "text/plain": [
       "                     TrackID                               TrackName  \\\n",
       "1614  1siUcrRMKOqnrJyknaYrz3                           Valder Fields   \n",
       "8687  3zpbWaTHZutGOjT4S4CuUq                           The Duck Song   \n",
       "5644  2FXORuBJ8gBDTOVjckYXdF                    Remember Me This Way   \n",
       "4875  3Y81Q8dLI74Mgi1wbXvscv                                 Why Me?   \n",
       "6682  1BtwFUWCjt7hfUjN9X5eGX  Nothing'S Gonna Change My Love For You   \n",
       "2501  1FQ0ecMZMI3ArhcJQPROFP                              First Time   \n",
       "9112  0y98eQsCyQ0hyYUsy3GLX7                                   Lucky   \n",
       "5304  3JQQnhFsJCYAouBbuxVCvJ                          Cayman Islands   \n",
       "9111  0OjenJcQMRdXI10bQmWYpM                                Oh No No   \n",
       "5296  654YXpi3jNYFjNoqhuYGxw        Winning A Battle, Losing The War   \n",
       "\n",
       "      Popularity  Duration  Explicit                   Artists  \\\n",
       "1614          34    158693         0           ['Tamas Wells']   \n",
       "8687          51    191733         0           ['Bryant Oden']   \n",
       "5644          48    266907         0           ['Jordan Hill']   \n",
       "4875          32    204160         0          ['Linda Martin']   \n",
       "6682          36    224173         0        ['Glenn Medeiros']   \n",
       "2501          52    196493         0            ['Robin Beck']   \n",
       "9112          36    251573         0           ['Bernie Paul']   \n",
       "5304          51    182960         0  ['Kings of Convenience']   \n",
       "9111          40    244693         0           ['Bernie Paul']   \n",
       "5296          45    234627         0  ['Kings of Convenience']   \n",
       "\n",
       "                       ArtistsID  ReleaseYear  Danceability  Energy  ...  \\\n",
       "1614  ['01osYMBrXUdvSJJlzFgrVi']         2006         0.574   0.385  ...   \n",
       "8687  ['0vuuI2BxGByuCvnBHC00vX']         2009         0.453   0.449  ...   \n",
       "5644  ['0OOhKEKPDRy8UrlykRWG2i']         1996         0.471   0.405  ...   \n",
       "4875  ['1GyPJziXpMB4WOyCPpIDA4']         1992         0.430   0.403  ...   \n",
       "6682  ['0bByarMN8ryEFQsRo6iCUN']         2013         0.419   0.585  ...   \n",
       "2501  ['0tUERnHmr1tKp2pSwPLN8b']         2007         0.581   0.547  ...   \n",
       "9112  ['0uI97WlhXD44vyB16hy3PK']         1996         0.629   0.742  ...   \n",
       "5304  ['41AbNVba2ccpmcc9QtOJE7']         2004         0.413   0.343  ...   \n",
       "9111  ['0uI97WlhXD44vyB16hy3PK']         1996         0.706   0.579  ...   \n",
       "5296  ['41AbNVba2ccpmcc9QtOJE7']         2001         0.587   0.316  ...   \n",
       "\n",
       "        Tempo  TimeSignature          artists_upd_v1  artists_upd_v2  \\\n",
       "1614  116.986              4           [Tamas Wells]              []   \n",
       "8687  184.814              4           [Bryant Oden]              []   \n",
       "5644  121.492              4           [Jordan Hill]              []   \n",
       "4875  152.120              4          [Linda Martin]              []   \n",
       "6682  142.047              4        [Glenn Medeiros]              []   \n",
       "2501   97.998              4            [Robin Beck]              []   \n",
       "9112  111.216              4           [Bernie Paul]              []   \n",
       "5304  174.583              4  [Kings of Convenience]              []   \n",
       "9111  115.820              4           [Bernie Paul]              []   \n",
       "5296  142.448              4  [Kings of Convenience]              []   \n",
       "\n",
       "                 artists_upd  \\\n",
       "1614           [Tamas Wells]   \n",
       "8687           [Bryant Oden]   \n",
       "5644           [Jordan Hill]   \n",
       "4875          [Linda Martin]   \n",
       "6682        [Glenn Medeiros]   \n",
       "2501            [Robin Beck]   \n",
       "9112           [Bernie Paul]   \n",
       "5304  [Kings of Convenience]   \n",
       "9111           [Bernie Paul]   \n",
       "5296  [Kings of Convenience]   \n",
       "\n",
       "                                           artists_song  \\\n",
       "1614                          Tamas Wells+Valder Fields   \n",
       "8687                          Bryant Oden+The Duck Song   \n",
       "5644                   Jordan Hill+Remember Me This Way   \n",
       "4875                               Linda Martin+Why Me?   \n",
       "6682  Glenn Medeiros+Nothing'S Gonna Change My Love ...   \n",
       "2501                              Robin Beck+First Time   \n",
       "9112                                  Bernie Paul+Lucky   \n",
       "5304                Kings of Convenience+Cayman Islands   \n",
       "9111                               Bernie Paul+Oh No No   \n",
       "5296  Kings of Convenience+Winning A Battle, Losing ...   \n",
       "\n",
       "                          consolidates_genre_lists  popularity_red  len  \\\n",
       "1614                                            []               6    1   \n",
       "8687                                            []              10    1   \n",
       "5644                                            []               9    1   \n",
       "4875                                            []               6    1   \n",
       "6682                                            []               7    1   \n",
       "2501                                            []              10    1   \n",
       "9112                                            []               7    1   \n",
       "5304  [melancholia, norwegian_indie, bergen_indie]              10    1   \n",
       "9111                                            []               8    1   \n",
       "5296  [melancholia, norwegian_indie, bergen_indie]               9    1   \n",
       "\n",
       "           sim  \n",
       "1614  0.953569  \n",
       "8687  0.950147  \n",
       "5644  0.948939  \n",
       "4875  0.945722  \n",
       "6682  0.944464  \n",
       "2501  0.943485  \n",
       "9112  0.942897  \n",
       "5304  0.942441  \n",
       "9111  0.941703  \n",
       "5296  0.936633  \n",
       "\n",
       "[10 rows x 28 columns]"
      ]
     },
     "execution_count": 47,
     "metadata": {},
     "output_type": "execute_result"
    }
   ],
   "source": [
    "top_10_user_100"
   ]
  },
  {
   "cell_type": "code",
   "execution_count": 48,
   "metadata": {},
   "outputs": [],
   "source": [
    "from dash import Dash, dcc, html, Input, Output\n",
    "import plotly.express as px\n",
    "\n",
    "import pandas as pd\n",
    "import pymssql\n",
    "\n",
    "app = Dash(__name__)"
   ]
  },
  {
   "cell_type": "code",
   "execution_count": 31,
   "metadata": {},
   "outputs": [
    {
     "data": {
      "application/vnd.plotly.v1+json": {
       "config": {
        "plotlyServerURL": "https://plot.ly"
       },
       "data": [
        {
         "alignmentgroup": "True",
         "hovertemplate": "TrackName=%{x}<br>sim=%{y}<extra></extra>",
         "legendgroup": "",
         "marker": {
          "color": "#636efa",
          "pattern": {
           "shape": ""
          }
         },
         "name": "",
         "offsetgroup": "",
         "orientation": "v",
         "showlegend": false,
         "textposition": "auto",
         "type": "bar",
         "x": [
          "Whiskey In The Jar",
          "Blitzkrieg",
          "Slither",
          "Hero Of The Day",
          "My Friend Of Misery",
          "Astronomy",
          "Bad Seed",
          "Voracious Souls",
          "The More I See",
          "Kill Again"
         ],
         "xaxis": "x",
         "y": [
          0.955791539982391,
          0.9535664530763734,
          0.9528244170699219,
          0.9482562362610639,
          0.9470812530182549,
          0.9466271651363163,
          0.9453756661992885,
          0.9432636167348029,
          0.9343550627328082,
          0.9264288215400338
         ],
         "yaxis": "y"
        }
       ],
       "layout": {
        "barmode": "relative",
        "legend": {
         "tracegroupgap": 0
        },
        "margin": {
         "t": 60
        },
        "template": {
         "data": {
          "bar": [
           {
            "error_x": {
             "color": "#2a3f5f"
            },
            "error_y": {
             "color": "#2a3f5f"
            },
            "marker": {
             "line": {
              "color": "#E5ECF6",
              "width": 0.5
             },
             "pattern": {
              "fillmode": "overlay",
              "size": 10,
              "solidity": 0.2
             }
            },
            "type": "bar"
           }
          ],
          "barpolar": [
           {
            "marker": {
             "line": {
              "color": "#E5ECF6",
              "width": 0.5
             },
             "pattern": {
              "fillmode": "overlay",
              "size": 10,
              "solidity": 0.2
             }
            },
            "type": "barpolar"
           }
          ],
          "carpet": [
           {
            "aaxis": {
             "endlinecolor": "#2a3f5f",
             "gridcolor": "white",
             "linecolor": "white",
             "minorgridcolor": "white",
             "startlinecolor": "#2a3f5f"
            },
            "baxis": {
             "endlinecolor": "#2a3f5f",
             "gridcolor": "white",
             "linecolor": "white",
             "minorgridcolor": "white",
             "startlinecolor": "#2a3f5f"
            },
            "type": "carpet"
           }
          ],
          "choropleth": [
           {
            "colorbar": {
             "outlinewidth": 0,
             "ticks": ""
            },
            "type": "choropleth"
           }
          ],
          "contour": [
           {
            "colorbar": {
             "outlinewidth": 0,
             "ticks": ""
            },
            "colorscale": [
             [
              0,
              "#0d0887"
             ],
             [
              0.1111111111111111,
              "#46039f"
             ],
             [
              0.2222222222222222,
              "#7201a8"
             ],
             [
              0.3333333333333333,
              "#9c179e"
             ],
             [
              0.4444444444444444,
              "#bd3786"
             ],
             [
              0.5555555555555556,
              "#d8576b"
             ],
             [
              0.6666666666666666,
              "#ed7953"
             ],
             [
              0.7777777777777778,
              "#fb9f3a"
             ],
             [
              0.8888888888888888,
              "#fdca26"
             ],
             [
              1,
              "#f0f921"
             ]
            ],
            "type": "contour"
           }
          ],
          "contourcarpet": [
           {
            "colorbar": {
             "outlinewidth": 0,
             "ticks": ""
            },
            "type": "contourcarpet"
           }
          ],
          "heatmap": [
           {
            "colorbar": {
             "outlinewidth": 0,
             "ticks": ""
            },
            "colorscale": [
             [
              0,
              "#0d0887"
             ],
             [
              0.1111111111111111,
              "#46039f"
             ],
             [
              0.2222222222222222,
              "#7201a8"
             ],
             [
              0.3333333333333333,
              "#9c179e"
             ],
             [
              0.4444444444444444,
              "#bd3786"
             ],
             [
              0.5555555555555556,
              "#d8576b"
             ],
             [
              0.6666666666666666,
              "#ed7953"
             ],
             [
              0.7777777777777778,
              "#fb9f3a"
             ],
             [
              0.8888888888888888,
              "#fdca26"
             ],
             [
              1,
              "#f0f921"
             ]
            ],
            "type": "heatmap"
           }
          ],
          "heatmapgl": [
           {
            "colorbar": {
             "outlinewidth": 0,
             "ticks": ""
            },
            "colorscale": [
             [
              0,
              "#0d0887"
             ],
             [
              0.1111111111111111,
              "#46039f"
             ],
             [
              0.2222222222222222,
              "#7201a8"
             ],
             [
              0.3333333333333333,
              "#9c179e"
             ],
             [
              0.4444444444444444,
              "#bd3786"
             ],
             [
              0.5555555555555556,
              "#d8576b"
             ],
             [
              0.6666666666666666,
              "#ed7953"
             ],
             [
              0.7777777777777778,
              "#fb9f3a"
             ],
             [
              0.8888888888888888,
              "#fdca26"
             ],
             [
              1,
              "#f0f921"
             ]
            ],
            "type": "heatmapgl"
           }
          ],
          "histogram": [
           {
            "marker": {
             "pattern": {
              "fillmode": "overlay",
              "size": 10,
              "solidity": 0.2
             }
            },
            "type": "histogram"
           }
          ],
          "histogram2d": [
           {
            "colorbar": {
             "outlinewidth": 0,
             "ticks": ""
            },
            "colorscale": [
             [
              0,
              "#0d0887"
             ],
             [
              0.1111111111111111,
              "#46039f"
             ],
             [
              0.2222222222222222,
              "#7201a8"
             ],
             [
              0.3333333333333333,
              "#9c179e"
             ],
             [
              0.4444444444444444,
              "#bd3786"
             ],
             [
              0.5555555555555556,
              "#d8576b"
             ],
             [
              0.6666666666666666,
              "#ed7953"
             ],
             [
              0.7777777777777778,
              "#fb9f3a"
             ],
             [
              0.8888888888888888,
              "#fdca26"
             ],
             [
              1,
              "#f0f921"
             ]
            ],
            "type": "histogram2d"
           }
          ],
          "histogram2dcontour": [
           {
            "colorbar": {
             "outlinewidth": 0,
             "ticks": ""
            },
            "colorscale": [
             [
              0,
              "#0d0887"
             ],
             [
              0.1111111111111111,
              "#46039f"
             ],
             [
              0.2222222222222222,
              "#7201a8"
             ],
             [
              0.3333333333333333,
              "#9c179e"
             ],
             [
              0.4444444444444444,
              "#bd3786"
             ],
             [
              0.5555555555555556,
              "#d8576b"
             ],
             [
              0.6666666666666666,
              "#ed7953"
             ],
             [
              0.7777777777777778,
              "#fb9f3a"
             ],
             [
              0.8888888888888888,
              "#fdca26"
             ],
             [
              1,
              "#f0f921"
             ]
            ],
            "type": "histogram2dcontour"
           }
          ],
          "mesh3d": [
           {
            "colorbar": {
             "outlinewidth": 0,
             "ticks": ""
            },
            "type": "mesh3d"
           }
          ],
          "parcoords": [
           {
            "line": {
             "colorbar": {
              "outlinewidth": 0,
              "ticks": ""
             }
            },
            "type": "parcoords"
           }
          ],
          "pie": [
           {
            "automargin": true,
            "type": "pie"
           }
          ],
          "scatter": [
           {
            "marker": {
             "colorbar": {
              "outlinewidth": 0,
              "ticks": ""
             }
            },
            "type": "scatter"
           }
          ],
          "scatter3d": [
           {
            "line": {
             "colorbar": {
              "outlinewidth": 0,
              "ticks": ""
             }
            },
            "marker": {
             "colorbar": {
              "outlinewidth": 0,
              "ticks": ""
             }
            },
            "type": "scatter3d"
           }
          ],
          "scattercarpet": [
           {
            "marker": {
             "colorbar": {
              "outlinewidth": 0,
              "ticks": ""
             }
            },
            "type": "scattercarpet"
           }
          ],
          "scattergeo": [
           {
            "marker": {
             "colorbar": {
              "outlinewidth": 0,
              "ticks": ""
             }
            },
            "type": "scattergeo"
           }
          ],
          "scattergl": [
           {
            "marker": {
             "colorbar": {
              "outlinewidth": 0,
              "ticks": ""
             }
            },
            "type": "scattergl"
           }
          ],
          "scattermapbox": [
           {
            "marker": {
             "colorbar": {
              "outlinewidth": 0,
              "ticks": ""
             }
            },
            "type": "scattermapbox"
           }
          ],
          "scatterpolar": [
           {
            "marker": {
             "colorbar": {
              "outlinewidth": 0,
              "ticks": ""
             }
            },
            "type": "scatterpolar"
           }
          ],
          "scatterpolargl": [
           {
            "marker": {
             "colorbar": {
              "outlinewidth": 0,
              "ticks": ""
             }
            },
            "type": "scatterpolargl"
           }
          ],
          "scatterternary": [
           {
            "marker": {
             "colorbar": {
              "outlinewidth": 0,
              "ticks": ""
             }
            },
            "type": "scatterternary"
           }
          ],
          "surface": [
           {
            "colorbar": {
             "outlinewidth": 0,
             "ticks": ""
            },
            "colorscale": [
             [
              0,
              "#0d0887"
             ],
             [
              0.1111111111111111,
              "#46039f"
             ],
             [
              0.2222222222222222,
              "#7201a8"
             ],
             [
              0.3333333333333333,
              "#9c179e"
             ],
             [
              0.4444444444444444,
              "#bd3786"
             ],
             [
              0.5555555555555556,
              "#d8576b"
             ],
             [
              0.6666666666666666,
              "#ed7953"
             ],
             [
              0.7777777777777778,
              "#fb9f3a"
             ],
             [
              0.8888888888888888,
              "#fdca26"
             ],
             [
              1,
              "#f0f921"
             ]
            ],
            "type": "surface"
           }
          ],
          "table": [
           {
            "cells": {
             "fill": {
              "color": "#EBF0F8"
             },
             "line": {
              "color": "white"
             }
            },
            "header": {
             "fill": {
              "color": "#C8D4E3"
             },
             "line": {
              "color": "white"
             }
            },
            "type": "table"
           }
          ]
         },
         "layout": {
          "annotationdefaults": {
           "arrowcolor": "#2a3f5f",
           "arrowhead": 0,
           "arrowwidth": 1
          },
          "autotypenumbers": "strict",
          "coloraxis": {
           "colorbar": {
            "outlinewidth": 0,
            "ticks": ""
           }
          },
          "colorscale": {
           "diverging": [
            [
             0,
             "#8e0152"
            ],
            [
             0.1,
             "#c51b7d"
            ],
            [
             0.2,
             "#de77ae"
            ],
            [
             0.3,
             "#f1b6da"
            ],
            [
             0.4,
             "#fde0ef"
            ],
            [
             0.5,
             "#f7f7f7"
            ],
            [
             0.6,
             "#e6f5d0"
            ],
            [
             0.7,
             "#b8e186"
            ],
            [
             0.8,
             "#7fbc41"
            ],
            [
             0.9,
             "#4d9221"
            ],
            [
             1,
             "#276419"
            ]
           ],
           "sequential": [
            [
             0,
             "#0d0887"
            ],
            [
             0.1111111111111111,
             "#46039f"
            ],
            [
             0.2222222222222222,
             "#7201a8"
            ],
            [
             0.3333333333333333,
             "#9c179e"
            ],
            [
             0.4444444444444444,
             "#bd3786"
            ],
            [
             0.5555555555555556,
             "#d8576b"
            ],
            [
             0.6666666666666666,
             "#ed7953"
            ],
            [
             0.7777777777777778,
             "#fb9f3a"
            ],
            [
             0.8888888888888888,
             "#fdca26"
            ],
            [
             1,
             "#f0f921"
            ]
           ],
           "sequentialminus": [
            [
             0,
             "#0d0887"
            ],
            [
             0.1111111111111111,
             "#46039f"
            ],
            [
             0.2222222222222222,
             "#7201a8"
            ],
            [
             0.3333333333333333,
             "#9c179e"
            ],
            [
             0.4444444444444444,
             "#bd3786"
            ],
            [
             0.5555555555555556,
             "#d8576b"
            ],
            [
             0.6666666666666666,
             "#ed7953"
            ],
            [
             0.7777777777777778,
             "#fb9f3a"
            ],
            [
             0.8888888888888888,
             "#fdca26"
            ],
            [
             1,
             "#f0f921"
            ]
           ]
          },
          "colorway": [
           "#636efa",
           "#EF553B",
           "#00cc96",
           "#ab63fa",
           "#FFA15A",
           "#19d3f3",
           "#FF6692",
           "#B6E880",
           "#FF97FF",
           "#FECB52"
          ],
          "font": {
           "color": "#2a3f5f"
          },
          "geo": {
           "bgcolor": "white",
           "lakecolor": "white",
           "landcolor": "#E5ECF6",
           "showlakes": true,
           "showland": true,
           "subunitcolor": "white"
          },
          "hoverlabel": {
           "align": "left"
          },
          "hovermode": "closest",
          "mapbox": {
           "style": "light"
          },
          "paper_bgcolor": "white",
          "plot_bgcolor": "#E5ECF6",
          "polar": {
           "angularaxis": {
            "gridcolor": "white",
            "linecolor": "white",
            "ticks": ""
           },
           "bgcolor": "#E5ECF6",
           "radialaxis": {
            "gridcolor": "white",
            "linecolor": "white",
            "ticks": ""
           }
          },
          "scene": {
           "xaxis": {
            "backgroundcolor": "#E5ECF6",
            "gridcolor": "white",
            "gridwidth": 2,
            "linecolor": "white",
            "showbackground": true,
            "ticks": "",
            "zerolinecolor": "white"
           },
           "yaxis": {
            "backgroundcolor": "#E5ECF6",
            "gridcolor": "white",
            "gridwidth": 2,
            "linecolor": "white",
            "showbackground": true,
            "ticks": "",
            "zerolinecolor": "white"
           },
           "zaxis": {
            "backgroundcolor": "#E5ECF6",
            "gridcolor": "white",
            "gridwidth": 2,
            "linecolor": "white",
            "showbackground": true,
            "ticks": "",
            "zerolinecolor": "white"
           }
          },
          "shapedefaults": {
           "line": {
            "color": "#2a3f5f"
           }
          },
          "ternary": {
           "aaxis": {
            "gridcolor": "white",
            "linecolor": "white",
            "ticks": ""
           },
           "baxis": {
            "gridcolor": "white",
            "linecolor": "white",
            "ticks": ""
           },
           "bgcolor": "#E5ECF6",
           "caxis": {
            "gridcolor": "white",
            "linecolor": "white",
            "ticks": ""
           }
          },
          "title": {
           "x": 0.05
          },
          "xaxis": {
           "automargin": true,
           "gridcolor": "white",
           "linecolor": "white",
           "ticks": "",
           "title": {
            "standoff": 15
           },
           "zerolinecolor": "white",
           "zerolinewidth": 2
          },
          "yaxis": {
           "automargin": true,
           "gridcolor": "white",
           "linecolor": "white",
           "ticks": "",
           "title": {
            "standoff": 15
           },
           "zerolinecolor": "white",
           "zerolinewidth": 2
          }
         }
        },
        "xaxis": {
         "anchor": "y",
         "domain": [
          0,
          1
         ],
         "title": {
          "text": "TrackName"
         }
        },
        "yaxis": {
         "anchor": "x",
         "domain": [
          0,
          1
         ],
         "title": {
          "text": "sim"
         }
        }
       }
      }
     },
     "metadata": {},
     "output_type": "display_data"
    }
   ],
   "source": [
    "fig = px.bar(top_40_user_1065, x='TrackName', y='sim')\n",
    "fig.show()"
   ]
  },
  {
   "cell_type": "code",
   "execution_count": 49,
   "metadata": {},
   "outputs": [
    {
     "data": {
      "application/vnd.plotly.v1+json": {
       "config": {
        "plotlyServerURL": "https://plot.ly"
       },
       "data": [
        {
         "alignmentgroup": "True",
         "hovertemplate": "TrackName=%{x}<br>sim=%{y}<extra></extra>",
         "legendgroup": "",
         "marker": {
          "color": "#636efa",
          "pattern": {
           "shape": ""
          }
         },
         "name": "",
         "offsetgroup": "",
         "orientation": "v",
         "showlegend": false,
         "textposition": "auto",
         "type": "bar",
         "x": [
          "Valder Fields",
          "The Duck Song",
          "Remember Me This Way",
          "Why Me?",
          "Nothing'S Gonna Change My Love For You",
          "First Time",
          "Lucky",
          "Cayman Islands",
          "Oh No No",
          "Winning A Battle, Losing The War"
         ],
         "xaxis": "x",
         "y": [
          0.9535692102857156,
          0.9501465101773827,
          0.9489387481577544,
          0.9457217206542576,
          0.9444644640411765,
          0.9434854444081797,
          0.9428973972759715,
          0.9424412180859945,
          0.9417025863038502,
          0.9366334333388858
         ],
         "yaxis": "y"
        }
       ],
       "layout": {
        "barmode": "relative",
        "legend": {
         "tracegroupgap": 0
        },
        "margin": {
         "t": 60
        },
        "template": {
         "data": {
          "bar": [
           {
            "error_x": {
             "color": "#2a3f5f"
            },
            "error_y": {
             "color": "#2a3f5f"
            },
            "marker": {
             "line": {
              "color": "#E5ECF6",
              "width": 0.5
             },
             "pattern": {
              "fillmode": "overlay",
              "size": 10,
              "solidity": 0.2
             }
            },
            "type": "bar"
           }
          ],
          "barpolar": [
           {
            "marker": {
             "line": {
              "color": "#E5ECF6",
              "width": 0.5
             },
             "pattern": {
              "fillmode": "overlay",
              "size": 10,
              "solidity": 0.2
             }
            },
            "type": "barpolar"
           }
          ],
          "carpet": [
           {
            "aaxis": {
             "endlinecolor": "#2a3f5f",
             "gridcolor": "white",
             "linecolor": "white",
             "minorgridcolor": "white",
             "startlinecolor": "#2a3f5f"
            },
            "baxis": {
             "endlinecolor": "#2a3f5f",
             "gridcolor": "white",
             "linecolor": "white",
             "minorgridcolor": "white",
             "startlinecolor": "#2a3f5f"
            },
            "type": "carpet"
           }
          ],
          "choropleth": [
           {
            "colorbar": {
             "outlinewidth": 0,
             "ticks": ""
            },
            "type": "choropleth"
           }
          ],
          "contour": [
           {
            "colorbar": {
             "outlinewidth": 0,
             "ticks": ""
            },
            "colorscale": [
             [
              0,
              "#0d0887"
             ],
             [
              0.1111111111111111,
              "#46039f"
             ],
             [
              0.2222222222222222,
              "#7201a8"
             ],
             [
              0.3333333333333333,
              "#9c179e"
             ],
             [
              0.4444444444444444,
              "#bd3786"
             ],
             [
              0.5555555555555556,
              "#d8576b"
             ],
             [
              0.6666666666666666,
              "#ed7953"
             ],
             [
              0.7777777777777778,
              "#fb9f3a"
             ],
             [
              0.8888888888888888,
              "#fdca26"
             ],
             [
              1,
              "#f0f921"
             ]
            ],
            "type": "contour"
           }
          ],
          "contourcarpet": [
           {
            "colorbar": {
             "outlinewidth": 0,
             "ticks": ""
            },
            "type": "contourcarpet"
           }
          ],
          "heatmap": [
           {
            "colorbar": {
             "outlinewidth": 0,
             "ticks": ""
            },
            "colorscale": [
             [
              0,
              "#0d0887"
             ],
             [
              0.1111111111111111,
              "#46039f"
             ],
             [
              0.2222222222222222,
              "#7201a8"
             ],
             [
              0.3333333333333333,
              "#9c179e"
             ],
             [
              0.4444444444444444,
              "#bd3786"
             ],
             [
              0.5555555555555556,
              "#d8576b"
             ],
             [
              0.6666666666666666,
              "#ed7953"
             ],
             [
              0.7777777777777778,
              "#fb9f3a"
             ],
             [
              0.8888888888888888,
              "#fdca26"
             ],
             [
              1,
              "#f0f921"
             ]
            ],
            "type": "heatmap"
           }
          ],
          "heatmapgl": [
           {
            "colorbar": {
             "outlinewidth": 0,
             "ticks": ""
            },
            "colorscale": [
             [
              0,
              "#0d0887"
             ],
             [
              0.1111111111111111,
              "#46039f"
             ],
             [
              0.2222222222222222,
              "#7201a8"
             ],
             [
              0.3333333333333333,
              "#9c179e"
             ],
             [
              0.4444444444444444,
              "#bd3786"
             ],
             [
              0.5555555555555556,
              "#d8576b"
             ],
             [
              0.6666666666666666,
              "#ed7953"
             ],
             [
              0.7777777777777778,
              "#fb9f3a"
             ],
             [
              0.8888888888888888,
              "#fdca26"
             ],
             [
              1,
              "#f0f921"
             ]
            ],
            "type": "heatmapgl"
           }
          ],
          "histogram": [
           {
            "marker": {
             "pattern": {
              "fillmode": "overlay",
              "size": 10,
              "solidity": 0.2
             }
            },
            "type": "histogram"
           }
          ],
          "histogram2d": [
           {
            "colorbar": {
             "outlinewidth": 0,
             "ticks": ""
            },
            "colorscale": [
             [
              0,
              "#0d0887"
             ],
             [
              0.1111111111111111,
              "#46039f"
             ],
             [
              0.2222222222222222,
              "#7201a8"
             ],
             [
              0.3333333333333333,
              "#9c179e"
             ],
             [
              0.4444444444444444,
              "#bd3786"
             ],
             [
              0.5555555555555556,
              "#d8576b"
             ],
             [
              0.6666666666666666,
              "#ed7953"
             ],
             [
              0.7777777777777778,
              "#fb9f3a"
             ],
             [
              0.8888888888888888,
              "#fdca26"
             ],
             [
              1,
              "#f0f921"
             ]
            ],
            "type": "histogram2d"
           }
          ],
          "histogram2dcontour": [
           {
            "colorbar": {
             "outlinewidth": 0,
             "ticks": ""
            },
            "colorscale": [
             [
              0,
              "#0d0887"
             ],
             [
              0.1111111111111111,
              "#46039f"
             ],
             [
              0.2222222222222222,
              "#7201a8"
             ],
             [
              0.3333333333333333,
              "#9c179e"
             ],
             [
              0.4444444444444444,
              "#bd3786"
             ],
             [
              0.5555555555555556,
              "#d8576b"
             ],
             [
              0.6666666666666666,
              "#ed7953"
             ],
             [
              0.7777777777777778,
              "#fb9f3a"
             ],
             [
              0.8888888888888888,
              "#fdca26"
             ],
             [
              1,
              "#f0f921"
             ]
            ],
            "type": "histogram2dcontour"
           }
          ],
          "mesh3d": [
           {
            "colorbar": {
             "outlinewidth": 0,
             "ticks": ""
            },
            "type": "mesh3d"
           }
          ],
          "parcoords": [
           {
            "line": {
             "colorbar": {
              "outlinewidth": 0,
              "ticks": ""
             }
            },
            "type": "parcoords"
           }
          ],
          "pie": [
           {
            "automargin": true,
            "type": "pie"
           }
          ],
          "scatter": [
           {
            "marker": {
             "colorbar": {
              "outlinewidth": 0,
              "ticks": ""
             }
            },
            "type": "scatter"
           }
          ],
          "scatter3d": [
           {
            "line": {
             "colorbar": {
              "outlinewidth": 0,
              "ticks": ""
             }
            },
            "marker": {
             "colorbar": {
              "outlinewidth": 0,
              "ticks": ""
             }
            },
            "type": "scatter3d"
           }
          ],
          "scattercarpet": [
           {
            "marker": {
             "colorbar": {
              "outlinewidth": 0,
              "ticks": ""
             }
            },
            "type": "scattercarpet"
           }
          ],
          "scattergeo": [
           {
            "marker": {
             "colorbar": {
              "outlinewidth": 0,
              "ticks": ""
             }
            },
            "type": "scattergeo"
           }
          ],
          "scattergl": [
           {
            "marker": {
             "colorbar": {
              "outlinewidth": 0,
              "ticks": ""
             }
            },
            "type": "scattergl"
           }
          ],
          "scattermapbox": [
           {
            "marker": {
             "colorbar": {
              "outlinewidth": 0,
              "ticks": ""
             }
            },
            "type": "scattermapbox"
           }
          ],
          "scatterpolar": [
           {
            "marker": {
             "colorbar": {
              "outlinewidth": 0,
              "ticks": ""
             }
            },
            "type": "scatterpolar"
           }
          ],
          "scatterpolargl": [
           {
            "marker": {
             "colorbar": {
              "outlinewidth": 0,
              "ticks": ""
             }
            },
            "type": "scatterpolargl"
           }
          ],
          "scatterternary": [
           {
            "marker": {
             "colorbar": {
              "outlinewidth": 0,
              "ticks": ""
             }
            },
            "type": "scatterternary"
           }
          ],
          "surface": [
           {
            "colorbar": {
             "outlinewidth": 0,
             "ticks": ""
            },
            "colorscale": [
             [
              0,
              "#0d0887"
             ],
             [
              0.1111111111111111,
              "#46039f"
             ],
             [
              0.2222222222222222,
              "#7201a8"
             ],
             [
              0.3333333333333333,
              "#9c179e"
             ],
             [
              0.4444444444444444,
              "#bd3786"
             ],
             [
              0.5555555555555556,
              "#d8576b"
             ],
             [
              0.6666666666666666,
              "#ed7953"
             ],
             [
              0.7777777777777778,
              "#fb9f3a"
             ],
             [
              0.8888888888888888,
              "#fdca26"
             ],
             [
              1,
              "#f0f921"
             ]
            ],
            "type": "surface"
           }
          ],
          "table": [
           {
            "cells": {
             "fill": {
              "color": "#EBF0F8"
             },
             "line": {
              "color": "white"
             }
            },
            "header": {
             "fill": {
              "color": "#C8D4E3"
             },
             "line": {
              "color": "white"
             }
            },
            "type": "table"
           }
          ]
         },
         "layout": {
          "annotationdefaults": {
           "arrowcolor": "#2a3f5f",
           "arrowhead": 0,
           "arrowwidth": 1
          },
          "autotypenumbers": "strict",
          "coloraxis": {
           "colorbar": {
            "outlinewidth": 0,
            "ticks": ""
           }
          },
          "colorscale": {
           "diverging": [
            [
             0,
             "#8e0152"
            ],
            [
             0.1,
             "#c51b7d"
            ],
            [
             0.2,
             "#de77ae"
            ],
            [
             0.3,
             "#f1b6da"
            ],
            [
             0.4,
             "#fde0ef"
            ],
            [
             0.5,
             "#f7f7f7"
            ],
            [
             0.6,
             "#e6f5d0"
            ],
            [
             0.7,
             "#b8e186"
            ],
            [
             0.8,
             "#7fbc41"
            ],
            [
             0.9,
             "#4d9221"
            ],
            [
             1,
             "#276419"
            ]
           ],
           "sequential": [
            [
             0,
             "#0d0887"
            ],
            [
             0.1111111111111111,
             "#46039f"
            ],
            [
             0.2222222222222222,
             "#7201a8"
            ],
            [
             0.3333333333333333,
             "#9c179e"
            ],
            [
             0.4444444444444444,
             "#bd3786"
            ],
            [
             0.5555555555555556,
             "#d8576b"
            ],
            [
             0.6666666666666666,
             "#ed7953"
            ],
            [
             0.7777777777777778,
             "#fb9f3a"
            ],
            [
             0.8888888888888888,
             "#fdca26"
            ],
            [
             1,
             "#f0f921"
            ]
           ],
           "sequentialminus": [
            [
             0,
             "#0d0887"
            ],
            [
             0.1111111111111111,
             "#46039f"
            ],
            [
             0.2222222222222222,
             "#7201a8"
            ],
            [
             0.3333333333333333,
             "#9c179e"
            ],
            [
             0.4444444444444444,
             "#bd3786"
            ],
            [
             0.5555555555555556,
             "#d8576b"
            ],
            [
             0.6666666666666666,
             "#ed7953"
            ],
            [
             0.7777777777777778,
             "#fb9f3a"
            ],
            [
             0.8888888888888888,
             "#fdca26"
            ],
            [
             1,
             "#f0f921"
            ]
           ]
          },
          "colorway": [
           "#636efa",
           "#EF553B",
           "#00cc96",
           "#ab63fa",
           "#FFA15A",
           "#19d3f3",
           "#FF6692",
           "#B6E880",
           "#FF97FF",
           "#FECB52"
          ],
          "font": {
           "color": "#2a3f5f"
          },
          "geo": {
           "bgcolor": "white",
           "lakecolor": "white",
           "landcolor": "#E5ECF6",
           "showlakes": true,
           "showland": true,
           "subunitcolor": "white"
          },
          "hoverlabel": {
           "align": "left"
          },
          "hovermode": "closest",
          "mapbox": {
           "style": "light"
          },
          "paper_bgcolor": "white",
          "plot_bgcolor": "#E5ECF6",
          "polar": {
           "angularaxis": {
            "gridcolor": "white",
            "linecolor": "white",
            "ticks": ""
           },
           "bgcolor": "#E5ECF6",
           "radialaxis": {
            "gridcolor": "white",
            "linecolor": "white",
            "ticks": ""
           }
          },
          "scene": {
           "xaxis": {
            "backgroundcolor": "#E5ECF6",
            "gridcolor": "white",
            "gridwidth": 2,
            "linecolor": "white",
            "showbackground": true,
            "ticks": "",
            "zerolinecolor": "white"
           },
           "yaxis": {
            "backgroundcolor": "#E5ECF6",
            "gridcolor": "white",
            "gridwidth": 2,
            "linecolor": "white",
            "showbackground": true,
            "ticks": "",
            "zerolinecolor": "white"
           },
           "zaxis": {
            "backgroundcolor": "#E5ECF6",
            "gridcolor": "white",
            "gridwidth": 2,
            "linecolor": "white",
            "showbackground": true,
            "ticks": "",
            "zerolinecolor": "white"
           }
          },
          "shapedefaults": {
           "line": {
            "color": "#2a3f5f"
           }
          },
          "ternary": {
           "aaxis": {
            "gridcolor": "white",
            "linecolor": "white",
            "ticks": ""
           },
           "baxis": {
            "gridcolor": "white",
            "linecolor": "white",
            "ticks": ""
           },
           "bgcolor": "#E5ECF6",
           "caxis": {
            "gridcolor": "white",
            "linecolor": "white",
            "ticks": ""
           }
          },
          "title": {
           "x": 0.05
          },
          "xaxis": {
           "automargin": true,
           "gridcolor": "white",
           "linecolor": "white",
           "ticks": "",
           "title": {
            "standoff": 15
           },
           "zerolinecolor": "white",
           "zerolinewidth": 2
          },
          "yaxis": {
           "automargin": true,
           "gridcolor": "white",
           "linecolor": "white",
           "ticks": "",
           "title": {
            "standoff": 15
           },
           "zerolinecolor": "white",
           "zerolinewidth": 2
          }
         }
        },
        "xaxis": {
         "anchor": "y",
         "domain": [
          0,
          1
         ],
         "title": {
          "text": "TrackName"
         }
        },
        "yaxis": {
         "anchor": "x",
         "domain": [
          0,
          1
         ],
         "title": {
          "text": "sim"
         }
        }
       }
      }
     },
     "metadata": {},
     "output_type": "display_data"
    }
   ],
   "source": [
    "fig2 = px.bar(top_10_user_100, x='TrackName', y='sim')\n",
    "fig2.show()"
   ]
  },
  {
   "cell_type": "code",
   "execution_count": 51,
   "metadata": {},
   "outputs": [
    {
     "name": "stdout",
     "output_type": "stream",
     "text": [
      "Dash is running on http://127.0.0.1:8050/\n",
      "\n",
      "Dash is running on http://127.0.0.1:8050/\n",
      "\n",
      "Dash is running on http://127.0.0.1:8050/\n",
      "\n",
      "Dash is running on http://127.0.0.1:8050/\n",
      "\n",
      " * Serving Flask app \"__main__\" (lazy loading)\n",
      " * Environment: production\n",
      "\u001b[31m   WARNING: This is a development server. Do not use it in a production deployment.\u001b[0m\n",
      "\u001b[2m   Use a production WSGI server instead.\u001b[0m\n",
      " * Debug mode: off\n"
     ]
    },
    {
     "name": "stderr",
     "output_type": "stream",
     "text": [
      " * Running on http://127.0.0.1:8050/ (Press CTRL+C to quit)\n",
      "127.0.0.1 - - [27/Sep/2022 11:52:30] \"GET / HTTP/1.1\" 200 -\n",
      "127.0.0.1 - - [27/Sep/2022 11:52:31] \"GET /_dash-layout HTTP/1.1\" 200 -\n",
      "127.0.0.1 - - [27/Sep/2022 11:52:31] \"GET /_dash-dependencies HTTP/1.1\" 200 -\n",
      "127.0.0.1 - - [27/Sep/2022 11:52:31] \"GET /_dash-component-suites/dash/dcc/async-dropdown.js HTTP/1.1\" 200 -\n",
      "127.0.0.1 - - [27/Sep/2022 11:52:31] \"GET /_dash-component-suites/dash/dcc/async-graph.js HTTP/1.1\" 200 -\n",
      "127.0.0.1 - - [27/Sep/2022 11:52:31] \"GET /_dash-component-suites/dash/dcc/async-plotlyjs.js HTTP/1.1\" 200 -\n",
      "127.0.0.1 - - [27/Sep/2022 11:52:31] \"POST /_dash-update-component HTTP/1.1\" 200 -\n",
      "127.0.0.1 - - [27/Sep/2022 11:52:33] \"POST /_dash-update-component HTTP/1.1\" 200 -\n"
     ]
    }
   ],
   "source": [
    "app = Dash(__name__)\n",
    "\n",
    "app.layout = html.Div(children=[\n",
    "    html.H1(children='Dashboard', style={'text-align': 'center'}),\n",
    "\n",
    "\n",
    "    html.Div([\n",
    "        html.Label(['Choose a Playlist'],style={'font-weight': 'bold'}),\n",
    "        dcc.Dropdown(\n",
    "            id='dropdown',\n",
    "            options=[\n",
    "                {'label': 'playlist-10697', 'value': '10697'},\n",
    "                {'label': 'playlist-105', 'value': '105'},\n",
    "                    ],\n",
    "            value='10697',\n",
    "            style={\"width\": \"60%\"}),\n",
    "        \n",
    "    html.Div(dcc.Graph(id='graph')),        \n",
    "        ]),\n",
    "\n",
    "])\n",
    "\n",
    "@app.callback(\n",
    "    Output('graph', 'figure'),\n",
    "    [Input(component_id='dropdown', component_property='value')]\n",
    ")\n",
    "def select_graph(value):\n",
    "    if value == '10697':\n",
    "        fig = px.bar(top_40_user_1065, x='TrackName', y='sim')\n",
    "        return fig\n",
    "    else:\n",
    "        fig2 = px.bar(top_10_user_100, x='TrackName', y='sim')\n",
    "        return fig2\n",
    "    \n",
    "if __name__ == '__main__':\n",
    "    app.run_server()"
   ]
  }
 ],
 "metadata": {
  "kernelspec": {
   "display_name": "Python 3.9.12 ('base')",
   "language": "python",
   "name": "python3"
  },
  "language_info": {
   "codemirror_mode": {
    "name": "ipython",
    "version": 3
   },
   "file_extension": ".py",
   "mimetype": "text/x-python",
   "name": "python",
   "nbconvert_exporter": "python",
   "pygments_lexer": "ipython3",
   "version": "3.9.12"
  },
  "orig_nbformat": 4,
  "vscode": {
   "interpreter": {
    "hash": "d995ec42192d738df4c91faeca1bd393e360a232a1e79d9a67b0f3ad202ac836"
   }
  }
 },
 "nbformat": 4,
 "nbformat_minor": 2
}
